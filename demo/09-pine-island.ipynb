{
 "cells": [
  {
   "cell_type": "code",
   "execution_count": null,
   "metadata": {},
   "outputs": [],
   "source": [
    "%matplotlib notebook\n",
    "import numpy as np\n",
    "import geojson\n",
    "import rasterio\n",
    "import firedrake\n",
    "import icepack, icepack.plot"
   ]
  },
  {
   "cell_type": "markdown",
   "metadata": {},
   "source": [
    "Load the outline and create a mesh."
   ]
  },
  {
   "cell_type": "code",
   "execution_count": null,
   "metadata": {},
   "outputs": [],
   "source": [
    "outline_filename = icepack.datasets.fetch_pine_island_outline()\n",
    "with open(outline_filename, 'r') as outline_file:\n",
    "    outline = geojson.load(outline_file)\n",
    "    \n",
    "geometry = icepack.meshing.collection_to_geo(outline)\n",
    "with open('pine-island.geo', 'w') as geo_file:\n",
    "    geo_file.write(geometry.get_code())"
   ]
  },
  {
   "cell_type": "code",
   "execution_count": null,
   "metadata": {},
   "outputs": [],
   "source": [
    "!gmsh -2 -format msh2 -v 0 -o pine-island.msh pine-island.geo"
   ]
  },
  {
   "cell_type": "code",
   "execution_count": null,
   "metadata": {},
   "outputs": [],
   "source": [
    "mesh = firedrake.Mesh('pine-island.msh')"
   ]
  },
  {
   "cell_type": "code",
   "execution_count": null,
   "metadata": {},
   "outputs": [],
   "source": [
    "fig, axes = icepack.plot.subplots()\n",
    "icepack.plot.triplot(mesh, axes=axes)\n",
    "axes.legend()"
   ]
  },
  {
   "cell_type": "markdown",
   "metadata": {},
   "source": [
    "Load the bed and thickness maps and apply a smoothing kernel."
   ]
  },
  {
   "cell_type": "code",
   "execution_count": null,
   "metadata": {},
   "outputs": [],
   "source": [
    "bedmachine_filename = icepack.datasets.fetch_bedmachine_antarctica()\n",
    "thickness = rasterio.open('netcdf:' + bedmachine_filename + ':thickness', 'r')\n",
    "bed = rasterio.open('netcdf:' + bedmachine_filename + ':bed', 'r')"
   ]
  },
  {
   "cell_type": "code",
   "execution_count": null,
   "metadata": {},
   "outputs": [],
   "source": [
    "Q = firedrake.FunctionSpace(mesh, family='CG', degree=2)\n",
    "h_obs = icepack.interpolate(thickness, Q)\n",
    "b_obs = icepack.interpolate(bed, Q)"
   ]
  },
  {
   "cell_type": "code",
   "execution_count": null,
   "metadata": {},
   "outputs": [],
   "source": [
    "from firedrake import inner, grad, dx\n",
    "\n",
    "def smooth(q_obs, α):\n",
    "    q = q_obs.copy(deepcopy=True)\n",
    "    r = q - q_obs\n",
    "    J = 0.5 * (inner(r, r) + α**2 * inner(grad(q), grad(q))) * dx\n",
    "    F = firedrake.derivative(J, q)\n",
    "    firedrake.solve(F == 0, q)\n",
    "    return q\n",
    "\n",
    "α = firedrake.Constant(2e3)\n",
    "h = smooth(h_obs, α)\n",
    "b = smooth(b_obs, α)"
   ]
  },
  {
   "cell_type": "code",
   "execution_count": null,
   "metadata": {},
   "outputs": [],
   "source": [
    "fig, axes = icepack.plot.subplots()\n",
    "contours = icepack.plot.tricontourf(h, 40, axes=axes)\n",
    "fig.colorbar(contours)"
   ]
  },
  {
   "cell_type": "code",
   "execution_count": null,
   "metadata": {},
   "outputs": [],
   "source": [
    "s = icepack.compute_surface(h=h, b=b)"
   ]
  },
  {
   "cell_type": "code",
   "execution_count": null,
   "metadata": {},
   "outputs": [],
   "source": [
    "fig, axes = icepack.plot.subplots()\n",
    "contours = icepack.plot.tricontourf(s, 40, axes=axes)\n",
    "fig.colorbar(contours)"
   ]
  },
  {
   "cell_type": "markdown",
   "metadata": {},
   "source": [
    "Calculate the height of the ice surface above flotation."
   ]
  },
  {
   "cell_type": "code",
   "execution_count": null,
   "metadata": {},
   "outputs": [],
   "source": [
    "from icepack.constants import ice_density as ρ_I, water_density as ρ_W\n",
    "h_f = firedrake.interpolate(s - (1 - ρ_I / ρ_W) * h, Q)"
   ]
  },
  {
   "cell_type": "markdown",
   "metadata": {},
   "source": [
    "Show all the regions where the height above flotation is less than 200m."
   ]
  },
  {
   "cell_type": "code",
   "execution_count": null,
   "metadata": {},
   "outputs": [],
   "source": [
    "fig, axes = icepack.plot.subplots()\n",
    "levels = np.linspace(0., 200., 21)\n",
    "contours = icepack.plot.tricontourf(h_f, levels=levels, extend='min', axes=axes)\n",
    "fig.colorbar(contours)"
   ]
  },
  {
   "cell_type": "markdown",
   "metadata": {},
   "source": [
    "Load the ice velocity."
   ]
  },
  {
   "cell_type": "code",
   "execution_count": null,
   "metadata": {},
   "outputs": [],
   "source": [
    "velocity_filename = icepack.datasets.fetch_measures_antarctica()\n",
    "vx = rasterio.open('netcdf:' + velocity_filename + ':VX', 'r')\n",
    "vy = rasterio.open('netcdf:' + velocity_filename + ':VY', 'r')\n",
    "stdx = rasterio.open('netcdf:' + velocity_filename + ':STDX', 'r')\n",
    "stdy = rasterio.open('netcdf:' + velocity_filename + ':STDY', 'r')"
   ]
  },
  {
   "cell_type": "code",
   "execution_count": null,
   "metadata": {},
   "outputs": [],
   "source": [
    "V = firedrake.VectorFunctionSpace(mesh, family='CG', degree=2)\n",
    "u_obs = icepack.interpolate((vx, vy), V)\n",
    "σx = icepack.interpolate(stdx, Q)\n",
    "σy = icepack.interpolate(stdy, Q)"
   ]
  },
  {
   "cell_type": "markdown",
   "metadata": {},
   "source": [
    "Calculate the driving stress and smooth it a lot.\n",
    "This is to get the initial guess for the friction coefficient."
   ]
  },
  {
   "cell_type": "code",
   "execution_count": null,
   "metadata": {},
   "outputs": [],
   "source": [
    "from icepack.constants import gravity as g\n",
    "from firedrake import grad\n",
    "τ = firedrake.Function(V)\n",
    "r = τ + ρ_I * g * h * grad(s)\n",
    "α = firedrake.Constant(10e3)\n",
    "J = 0.5 * (inner(r, r) + α**2 * inner(grad(τ), grad(τ))) * dx\n",
    "F = firedrake.derivative(J, τ)\n",
    "firedrake.solve(F == 0, τ)"
   ]
  },
  {
   "cell_type": "code",
   "execution_count": null,
   "metadata": {},
   "outputs": [],
   "source": [
    "fig, axes = icepack.plot.subplots()\n",
    "levels = np.linspace(0., 0.2, 41)\n",
    "contours = icepack.plot.tricontourf(τ, levels=levels, extend='both', axes=axes)\n",
    "fig.colorbar(contours)"
   ]
  },
  {
   "cell_type": "markdown",
   "metadata": {},
   "source": [
    "Make an initial guess for the sliding coefficient -- the bed takes up half of the driving stress.\n",
    "(You can tune the fraction but it's just a starting place.)\n",
    "Note that we're using the Weertman sliding law\n",
    "\n",
    "$$\\tau_b = -C|u|^{1/m - 1}u$$\n",
    "\n",
    "where $C$ is the friction coefficient."
   ]
  },
  {
   "cell_type": "code",
   "execution_count": null,
   "metadata": {},
   "outputs": [],
   "source": [
    "from icepack.constants import weertman_sliding_law as m\n",
    "speed = firedrake.sqrt(inner(u_obs, u_obs))\n",
    "stress = firedrake.sqrt(inner(τ, τ))\n",
    "fraction = firedrake.Constant(0.5)\n",
    "C = fraction * stress / speed**(1/m)"
   ]
  },
  {
   "cell_type": "markdown",
   "metadata": {},
   "source": [
    "Now make the parameter $\\beta$, which is what we'll actually infer.\n",
    "Since the friction coefficient really can be 0, we'll use the parameterization\n",
    "\n",
    "$$C = \\beta^2.$$\n",
    "\n",
    "Additionally, multiply by a ramping factor to make the friction coefficient 0 on the ice shelf."
   ]
  },
  {
   "cell_type": "code",
   "execution_count": null,
   "metadata": {},
   "outputs": [],
   "source": [
    "from firedrake import max_value, min_value\n",
    "h_f_max = firedrake.Constant(10.)\n",
    "ramp = max_value(0, min_value(1, h_f / h_f_max))\n",
    "β = firedrake.interpolate(ramp * firedrake.sqrt(C), Q)"
   ]
  },
  {
   "cell_type": "code",
   "execution_count": null,
   "metadata": {},
   "outputs": [],
   "source": [
    "fig, axes = icepack.plot.subplots()\n",
    "contours = icepack.plot.tricontourf(β, 40, axes=axes)\n",
    "fig.colorbar(contours)"
   ]
  },
  {
   "cell_type": "code",
   "execution_count": null,
   "metadata": {},
   "outputs": [],
   "source": [
    "h_f_max = firedrake.Constant(10.)\n",
    "def friction(u, h, s, β):\n",
    "    h_f = s - (1 - ρ_I / ρ_W) * h\n",
    "    ramp = max_value(0, min_value(1, h_f / h_f_max))\n",
    "    C = ramp * β**2\n",
    "    return icepack.models.friction.bed_friction(u=u, C=C)"
   ]
  },
  {
   "cell_type": "code",
   "execution_count": null,
   "metadata": {},
   "outputs": [],
   "source": [
    "model = icepack.models.IceStream(friction=friction)"
   ]
  },
  {
   "cell_type": "code",
   "execution_count": null,
   "metadata": {},
   "outputs": [],
   "source": [
    "T = firedrake.Constant(260.)\n",
    "A = icepack.rate_factor(T)"
   ]
  },
  {
   "cell_type": "code",
   "execution_count": null,
   "metadata": {},
   "outputs": [],
   "source": [
    "opts = {'dirichlet_ids': [2, 3, 4]}\n",
    "u = model.diagnostic_solve(u0=u_obs, h=h, s=s, A=A, β=β, **opts)"
   ]
  },
  {
   "cell_type": "code",
   "execution_count": null,
   "metadata": {},
   "outputs": [],
   "source": [
    "fig, axes = icepack.plot.subplots()\n",
    "contours = icepack.plot.tricontourf(u, 40, axes=axes)\n",
    "fig.colorbar(contours)"
   ]
  }
 ],
 "metadata": {
  "kernelspec": {
   "display_name": "firedrake",
   "language": "python",
   "name": "firedrake"
  },
  "language_info": {
   "name": "python",
   "pygments_lexer": "ipython3"
  }
 },
 "nbformat": 4,
 "nbformat_minor": 4
}
