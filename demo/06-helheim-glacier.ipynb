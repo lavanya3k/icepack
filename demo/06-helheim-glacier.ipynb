{
 "cells": [
  {
   "cell_type": "code",
   "execution_count": null,
   "metadata": {},
   "outputs": [],
   "source": [
    "%matplotlib inline\n",
    "import matplotlib.pyplot as plt\n",
    "import numpy as np\n",
    "import rasterio\n",
    "import geojson\n",
    "import firedrake\n",
    "import icepack, icepack.plot, icepack.models"
   ]
  },
  {
   "cell_type": "markdown",
   "metadata": {},
   "source": [
    "# Helheim Glacier\n",
    "\n",
    "In this demo we'll look at Helheim Glacier in southeast Greenland.\n",
    "Helheim is one of the bigger glaciers draining the Greenland Ice Sheet by mass flux along with Jakobshavn, Kangerdlugssuaq, Petermann, and the Northeast Greenland Ice Stream.\n",
    "Much of the procedure for working with real data should be familiar from the demo on [inverse problems](https://icepack.github.io/icepack.demo.04-ice-shelf-inverse.html), where we inferred the fluidity of the Larsen C Ice Shelf in the Antarctic Peninsula.\n",
    "Here we'll use many of the same techniques, only instead of inferring the fluidity, we'll look at the friction coefficient for glacier sliding over the underlying bedrock.\n",
    "In the following, we'll assume that ice flow is by Weertman sliding:\n",
    "\n",
    "$$\\tau_b = -C|u|^{\\frac{1}{m} - 1}u,$$\n",
    "\n",
    "where $\\tau_b$ is the basal shear stress, $u$ is the sliding velocity, $m \\approx 3$ is the friction exponent, and $C$ is the friction coefficient.\n",
    "First, we'll estimate the friction coefficient using a 2D, depth-averaged model.\n",
    "Then we'll use this solution as an initial guess using the 3D hybrid model that we showed in [this demo](https://icepack.github.io/icepack.demo.05-hybrid-ice-stream.html) for a synthetic ice stream."
   ]
  },
  {
   "cell_type": "markdown",
   "metadata": {},
   "source": [
    "### Input data\n",
    "\n",
    "Loading in the mesh and input data should be mostly familiar from the previous demos on Larsen C.\n",
    "We'll be using different data sets since we're looking at Greenland rather than Antarctica this time around."
   ]
  },
  {
   "cell_type": "code",
   "execution_count": null,
   "metadata": {},
   "outputs": [],
   "source": [
    "outline_filename = icepack.datasets.fetch_helheim_outline()\n",
    "with open(outline_filename, 'r') as outline_file:\n",
    "    outline = geojson.load(outline_file)\n",
    "\n",
    "geometry = icepack.meshing.collection_to_geo(outline, lcar=5e3)\n",
    "with open('helheim.geo', 'w') as geo_file:\n",
    "    geo_file.write(geometry.get_code())"
   ]
  },
  {
   "cell_type": "code",
   "execution_count": null,
   "metadata": {},
   "outputs": [],
   "source": [
    "!gmsh -2 -format msh2 -v 2 -o helheim.msh helheim.geo"
   ]
  },
  {
   "cell_type": "markdown",
   "metadata": {},
   "source": [
    "The initial mesh that we've generated is pretty coarse, so to get finer resolution we'll create a hierarchy of refined meshes.\n",
    "In our case the mesh hierarchy will only go one level deep, so each triangle has been cut into four similar triangles.\n",
    "Where possible, it's best to start with the coarsest mesh and refine up to the level you need; you can always make a small problem bigger, but it's hard to make a big problem smaller."
   ]
  },
  {
   "cell_type": "code",
   "execution_count": null,
   "metadata": {},
   "outputs": [],
   "source": [
    "coarse_mesh = firedrake.Mesh('helheim.msh')\n",
    "mesh_hierarchy = firedrake.MeshHierarchy(coarse_mesh, 1)\n",
    "mesh = mesh_hierarchy[-1]"
   ]
  },
  {
   "cell_type": "code",
   "execution_count": null,
   "metadata": {},
   "outputs": [],
   "source": [
    "fig, axes = icepack.plot.subplots()\n",
    "icepack.plot.triplot(mesh, axes=axes)\n",
    "axes.legend()"
   ]
  },
  {
   "cell_type": "code",
   "execution_count": null,
   "metadata": {},
   "outputs": [],
   "source": [
    "thickness_filename = icepack.datasets.fetch_bedmachine_greenland()\n",
    "thickness = rasterio.open('netcdf:' + thickness_filename + ':thickness', 'r')\n",
    "surface = rasterio.open('netcdf:' + thickness_filename + ':surface', 'r')\n",
    "\n",
    "Q = firedrake.FunctionSpace(mesh, family='CG', degree=2)\n",
    "h0 = icepack.interpolate(thickness, Q)\n",
    "s0 = icepack.interpolate(surface, Q)\n",
    "\n",
    "from firedrake import inner, grad, dx\n",
    "def smooth(q0, α):\n",
    "    q = q0.copy(deepcopy=True)\n",
    "    J = 0.5 * ((q - q0)**2 + α**2 * inner(grad(q), grad(q))) * dx\n",
    "    F = firedrake.derivative(J, q)\n",
    "    firedrake.solve(F == 0, q)\n",
    "    return q\n",
    "\n",
    "α = firedrake.Constant(2e3)\n",
    "h = smooth(h0, α)\n",
    "s = smooth(s0, α)"
   ]
  },
  {
   "cell_type": "code",
   "execution_count": null,
   "metadata": {},
   "outputs": [],
   "source": [
    "fig, axes = icepack.plot.subplots()\n",
    "contours = icepack.plot.tricontourf(h, 40, axes=axes)\n",
    "fig.colorbar(contours)"
   ]
  },
  {
   "cell_type": "code",
   "execution_count": null,
   "metadata": {},
   "outputs": [],
   "source": [
    "fig, axes = icepack.plot.subplots()\n",
    "contours = icepack.plot.tricontourf(s, 40, axes=axes)\n",
    "fig.colorbar(contours)"
   ]
  },
  {
   "cell_type": "code",
   "execution_count": null,
   "metadata": {},
   "outputs": [],
   "source": [
    "velocity_filenames = icepack.datasets.fetch_measures_greenland()\n",
    "velocity_dict = {\n",
    "    key: [f for f in velocity_filenames if key in f][0]\n",
    "    for key in ['vx', 'vy', 'ex', 'ey']\n",
    "}\n",
    "vx = rasterio.open(velocity_dict['vx'], 'r')\n",
    "vy = rasterio.open(velocity_dict['vy'], 'r')\n",
    "ex = rasterio.open(velocity_dict['ex'], 'r')\n",
    "ey = rasterio.open(velocity_dict['ey'], 'r')"
   ]
  },
  {
   "cell_type": "code",
   "execution_count": null,
   "metadata": {},
   "outputs": [],
   "source": [
    "V = firedrake.VectorFunctionSpace(mesh, family='CG', degree=2)\n",
    "u_obs = icepack.interpolate((vx, vy), V)\n",
    "σx = icepack.interpolate(ex, Q)\n",
    "σy = icepack.interpolate(ey, Q)"
   ]
  },
  {
   "cell_type": "code",
   "execution_count": null,
   "metadata": {},
   "outputs": [],
   "source": [
    "fig, axes = icepack.plot.subplots()\n",
    "σ = firedrake.interpolate(firedrake.sqrt(σx**2 + σy**2), Q)\n",
    "levels = np.linspace(0, 50, 26)\n",
    "contours = icepack.plot.tricontourf(σ, levels=levels, extend='max', axes=axes)\n",
    "fig.colorbar(contours)"
   ]
  },
  {
   "cell_type": "markdown",
   "metadata": {},
   "source": [
    "Now that we've loaded in the ice thickness and surface elevation, we'll calculate the gravitational driving stress\n",
    "\n",
    "$$\\tau_d = -\\rho_Igh\\nabla s.$$\n",
    "\n",
    "The gravitational driving stress is in balance with internal viscous stresses and with basal stress.\n",
    "By knowing roughly what the magnitudes of the driving stress and the velocity are, we can get a better idea of what a reasonable starting value of the friction coefficient should be."
   ]
  },
  {
   "cell_type": "code",
   "execution_count": null,
   "metadata": {},
   "outputs": [],
   "source": [
    "from firedrake import grad\n",
    "from icepack.constants import ice_density as ρ_I, gravity as g\n",
    "τ = firedrake.project(-ρ_I * g * h * grad(s), V)"
   ]
  },
  {
   "cell_type": "code",
   "execution_count": null,
   "metadata": {},
   "outputs": [],
   "source": [
    "import numpy as np\n",
    "fig, axes = icepack.plot.subplots()\n",
    "levels = np.linspace(0, .5, 51)\n",
    "contours = icepack.plot.tricontourf(τ, levels=levels, extend='max', axes=axes)\n",
    "fig.colorbar(contours, label='megapascals')"
   ]
  },
  {
   "cell_type": "markdown",
   "metadata": {},
   "source": [
    "To initialize the inverse problem, we'll assume that the basal shear stress takes up half of the driving stress.\n",
    "This is a totally ad hoc assumption and it's not obvious a priori that this is going to give us reasonable values of the ice velocity.\n",
    "Nonetheless, it happens to work well enough as a starting point.\n",
    "We'll also need to re-parameterize the basal shear stress in terms of some auxiliary variable $\\theta$ in order to guarantee that the friction coefficient is strictly positive.\n",
    "In the following, we'll use\n",
    "\n",
    "$$\\tau_b = -\\frac{\\tau_0}{u_0^{1/m}}e^{-\\phi}|u|^{\\frac{1}{m} - 1}u$$\n",
    "\n",
    "where $\\tau_0$ and $u_0$ are the average magnitudes of the driving stress and speed respectively."
   ]
  },
  {
   "cell_type": "code",
   "execution_count": null,
   "metadata": {},
   "outputs": [],
   "source": [
    "from firedrake import exp, ln, sqrt, assemble\n",
    "from icepack.constants import weertman_sliding_law as m\n",
    "import icepack.models.friction\n",
    "\n",
    "u = u_obs.copy(deepcopy=True)\n",
    "speed = sqrt(inner(u, u))\n",
    "stress = sqrt(inner(τ, τ))\n",
    "\n",
    "area = assemble(firedrake.Constant(1) * dx(mesh))\n",
    "speed_avg = assemble(speed * dx) / area\n",
    "stress_avg = assemble(stress * dx) / area\n",
    "\n",
    "print('Average speed:  {} meters / year'.format(speed_avg))\n",
    "print('Average stress: {} kilopascals'.format(1e3 * stress_avg))\n",
    "\n",
    "fraction = 0.5\n",
    "C = fraction * stress / speed**(1/m)\n",
    "q = firedrake.interpolate(-ln(speed_avg**(1/m) * C / stress_avg), Q)\n",
    "\n",
    "def bed_friction(u, q):\n",
    "    C = stress_avg / speed_avg**(1/m) * exp(-q)\n",
    "    return icepack.models.friction.bed_friction(u, C)"
   ]
  },
  {
   "cell_type": "markdown",
   "metadata": {},
   "source": [
    "For now, we'll assume that the ice is at a constant -13C.\n",
    "We'll revisit this assumption using a heat flow model later."
   ]
  },
  {
   "cell_type": "code",
   "execution_count": null,
   "metadata": {},
   "outputs": [],
   "source": [
    "T = firedrake.Constant(260.)\n",
    "A = icepack.rate_factor(T)"
   ]
  },
  {
   "cell_type": "code",
   "execution_count": null,
   "metadata": {},
   "outputs": [],
   "source": [
    "ice_stream = icepack.models.IceStream(friction=bed_friction)\n",
    "opts = {'dirichlet_ids': [1, 2, 4, 5, 6], 'tol': 1e-6}\n",
    "u = ice_stream.diagnostic_solve(u0=u_obs, h=h, s=s, A=A, q=q, **opts)"
   ]
  },
  {
   "cell_type": "code",
   "execution_count": null,
   "metadata": {},
   "outputs": [],
   "source": [
    "fig, axes = icepack.plot.subplots()\n",
    "contours = icepack.plot.tricontourf(u, axes=axes)\n",
    "fig.colorbar(contours, label='meters / year')"
   ]
  },
  {
   "cell_type": "markdown",
   "metadata": {},
   "source": [
    "### Inferring the friction\n",
    "\n",
    "Next we'll apply a similar procedure as the first demo on inverse problems to back out the friction coefficient.\n",
    "The first ingredient is to define the objective and regularization functionals."
   ]
  },
  {
   "cell_type": "code",
   "execution_count": null,
   "metadata": {},
   "outputs": [],
   "source": [
    "def objective(u):\n",
    "    δu = u - u_obs\n",
    "    return 0.5 * ((δu[0] / σx)**2 + (δu[1] / σy)**2) * dx\n",
    "\n",
    "Φ = firedrake.Constant(3.)\n",
    "L = firedrake.Constant(19.5e3)\n",
    "def regularization(q):\n",
    "    return 0.5 * (L / Φ)**2 * inner(grad(q), grad(q)) * dx"
   ]
  },
  {
   "cell_type": "code",
   "execution_count": null,
   "metadata": {},
   "outputs": [],
   "source": [
    "import icepack.inverse\n",
    "\n",
    "problem = icepack.inverse.InverseProblem(\n",
    "    model=ice_stream,\n",
    "    method=icepack.models.IceStream.diagnostic_solve,\n",
    "    objective=objective,\n",
    "    regularization=regularization,\n",
    "    state_name='u',\n",
    "    state=u,\n",
    "    parameter_name='q',\n",
    "    parameter=q,\n",
    "    model_args={'h': h, 's': s, 'u0': u, 'A': A, 'tol': 1e-6},\n",
    "    dirichlet_ids=opts['dirichlet_ids']\n",
    ")"
   ]
  },
  {
   "cell_type": "code",
   "execution_count": null,
   "metadata": {},
   "outputs": [],
   "source": [
    "def print_error_and_regularization(solver):\n",
    "    E = firedrake.assemble(solver.objective)\n",
    "    R = firedrake.assemble(solver.regularization)\n",
    "    print('{:g}, {:g}'.format(E/area, R/area))"
   ]
  },
  {
   "cell_type": "code",
   "execution_count": null,
   "metadata": {},
   "outputs": [],
   "source": [
    "solver = icepack.inverse.GaussNewtonSolver(problem, print_error_and_regularization)"
   ]
  },
  {
   "cell_type": "code",
   "execution_count": null,
   "metadata": {},
   "outputs": [],
   "source": [
    "fig, axes = icepack.plot.subplots()\n",
    "contours = icepack.plot.tricontourf(solver.search_direction, axes=axes)\n",
    "fig.colorbar(contours)"
   ]
  },
  {
   "cell_type": "code",
   "execution_count": null,
   "metadata": {},
   "outputs": [],
   "source": [
    "iterations = solver.solve(\n",
    "    rtol=5e-3,\n",
    "    atol=0.0,\n",
    "    max_iterations=30\n",
    ")"
   ]
  },
  {
   "cell_type": "code",
   "execution_count": null,
   "metadata": {},
   "outputs": [],
   "source": [
    "fig, axes = icepack.plot.subplots()\n",
    "contours = icepack.plot.tricontourf(solver.parameter, 40, axes=axes)\n",
    "fig.colorbar(contours)"
   ]
  },
  {
   "cell_type": "code",
   "execution_count": null,
   "metadata": {},
   "outputs": [],
   "source": [
    "q = solver.parameter\n",
    "u = solver.state\n",
    "\n",
    "C = stress_avg / speed_avg**(1/m) * exp(-q)\n",
    "U = sqrt(inner(u, u))\n",
    "τ_b = firedrake.interpolate(C * U**(1/m), Q)"
   ]
  },
  {
   "cell_type": "code",
   "execution_count": null,
   "metadata": {},
   "outputs": [],
   "source": [
    "fig, axes = icepack.plot.subplots()\n",
    "levels = np.linspace(0, 0.5, 51)\n",
    "contours = icepack.plot.tricontourf(τ_b, levels=levels, extend='max', axes=axes)\n",
    "fig.colorbar(contours, label='megapascals')"
   ]
  },
  {
   "cell_type": "markdown",
   "metadata": {},
   "source": [
    "### With the hybrid model\n",
    "\n",
    "The model that we've used to infer the basal shear stress assumes that almost none of the ice flow is by vertical shear, but that might not be a good assumption in slower-flowing parts of the domain.\n",
    "To get a better estimate, we can try again using the hybrid model.\n",
    "We can cut down on the computational cost of using the more expensive hybrid model by initializing it with the estimates from the 2D model.\n",
    "\n",
    "We showed how to use the hybrid model directly in the previous demo, but we didn't show how to take 2D model results and lift them into 3D.\n",
    "Icepack provides a convenience function `lift3d` to do just that."
   ]
  },
  {
   "cell_type": "code",
   "execution_count": null,
   "metadata": {},
   "outputs": [],
   "source": [
    "help(icepack.lift3d)"
   ]
  },
  {
   "cell_type": "markdown",
   "metadata": {},
   "source": [
    "First, we'll extrude the mesh and create a function space to represent scalar fields that are constant throughout the whole column.\n",
    "Here we'll use the `R` space in the vertical, which represents spatially constant functions (see also [this page](https://firedrakeproject.org/r-space.html#using-r-space-with-extruded-meshes) from the Firedrake documentation)."
   ]
  },
  {
   "cell_type": "code",
   "execution_count": null,
   "metadata": {},
   "outputs": [],
   "source": [
    "mesh3d = firedrake.ExtrudedMesh(mesh, 1)\n",
    "Qc = firedrake.FunctionSpace(\n",
    "    mesh3d, family='CG', degree=2, vfamily='R', vdegree=0\n",
    ")\n",
    "q = icepack.lift3d(solver.parameter, Qc)\n",
    "h = icepack.lift3d(h, Qc)\n",
    "s = icepack.lift3d(s, Qc)\n",
    "σx = icepack.lift3d(σx, Qc)\n",
    "σy = icepack.lift3d(σy, Qc)"
   ]
  },
  {
   "cell_type": "markdown",
   "metadata": {},
   "source": [
    "Next, we need to lift the 2D depth-averaged velocity into 3D.\n",
    "This takes place in two stages, the first of which is to extrude the velocity to be constant in the vertical direction.\n",
    "The initial function space `V0` will use degree-0 elements in the vertical."
   ]
  },
  {
   "cell_type": "code",
   "execution_count": null,
   "metadata": {},
   "outputs": [],
   "source": [
    "V0 = firedrake.VectorFunctionSpace(\n",
    "    mesh3d, dim=2, family='CG', degree=2, vfamily='R', vdegree=0\n",
    ")\n",
    "u0 = icepack.lift3d(solver.state, V0)\n",
    "u_obs = icepack.lift3d(u_obs, V0)"
   ]
  },
  {
   "cell_type": "markdown",
   "metadata": {},
   "source": [
    "Next, we'll add vertical variation; the function space `V` has degree 2 in the vertical."
   ]
  },
  {
   "cell_type": "code",
   "execution_count": null,
   "metadata": {},
   "outputs": [],
   "source": [
    "V = firedrake.VectorFunctionSpace(\n",
    "    mesh3d, dim=2, family='CG', degree=2, vfamily='GL', vdegree=2\n",
    ")\n",
    "\n",
    "x, y, ζ = firedrake.SpatialCoordinate(mesh3d)\n",
    "u_initial = firedrake.interpolate((1 - (1 - ζ)**2) * u0, V)"
   ]
  },
  {
   "cell_type": "markdown",
   "metadata": {},
   "source": [
    "Finally, we'll create a model object."
   ]
  },
  {
   "cell_type": "code",
   "execution_count": null,
   "metadata": {},
   "outputs": [],
   "source": [
    "def bed_friction(u, q):\n",
    "    C = stress_avg / speed_avg**(1/m) * exp(-q)\n",
    "    return icepack.models.hybrid.bed_friction(u, C)\n",
    "\n",
    "model = icepack.models.HybridModel(friction=bed_friction)"
   ]
  },
  {
   "cell_type": "code",
   "execution_count": null,
   "metadata": {},
   "outputs": [],
   "source": [
    "u = model.diagnostic_solve(u0=u_initial, h=h, s=s, A=A, q=q, **opts)"
   ]
  },
  {
   "cell_type": "code",
   "execution_count": null,
   "metadata": {},
   "outputs": [],
   "source": [
    "fig, axes = icepack.plot.subplots()\n",
    "contours = icepack.plot.tricontourf(u, axes=axes)\n",
    "fig.colorbar(contours)"
   ]
  },
  {
   "cell_type": "markdown",
   "metadata": {},
   "source": [
    "**Well bummer**.\n",
    "The following code is too slow to be useful.\n",
    "Time to profile."
   ]
  },
  {
   "cell_type": "code",
   "execution_count": null,
   "metadata": {},
   "outputs": [],
   "source": [
    "from firedrake import ds_b, ds_t\n",
    "def objective(u):\n",
    "    δu = u - u_obs\n",
    "    return 0.5 * ((δu[0] / σx)**2 + (δu[1] / σy)**2) * ds_t\n",
    "\n",
    "Φ = firedrake.Constant(3.)\n",
    "L = firedrake.Constant(19.5e3)\n",
    "def regularization(q):\n",
    "    return 0.5 * (L / Φ)**2 * inner(grad(q), grad(q)) * ds_b\n",
    "\n",
    "problem = icepack.inverse.InverseProblem(\n",
    "    model=model,\n",
    "    method=type(model).diagnostic_solve,\n",
    "    objective=objective,\n",
    "    regularization=regularization,\n",
    "    state_name='u',\n",
    "    state=u,\n",
    "    parameter_name='q',\n",
    "    parameter=q,\n",
    "    model_args={'h': h, 's': s, 'u0': u, 'A': A, 'tol': 1e-6},\n",
    "    dirichlet_ids=opts['dirichlet_ids']\n",
    ")"
   ]
  },
  {
   "cell_type": "code",
   "execution_count": null,
   "metadata": {},
   "outputs": [],
   "source": [
    "solver = icepack.inverse.GaussNewtonSolver(problem, print_error_and_regularization)"
   ]
  },
  {
   "cell_type": "code",
   "execution_count": null,
   "metadata": {},
   "outputs": [],
   "source": [
    "iterations = solver.solve(rtol=5e-3, atol=0., max_iterations=30)"
   ]
  }
 ],
 "metadata": {
  "kernelspec": {
   "display_name": "firedrake",
   "language": "python",
   "name": "firedrake"
  },
  "language_info": {
   "name": "python",
   "pygments_lexer": "ipython3"
  }
 },
 "nbformat": 4,
 "nbformat_minor": 4
}
