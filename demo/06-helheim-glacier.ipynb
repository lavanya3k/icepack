{
 "cells": [
  {
   "cell_type": "code",
   "execution_count": null,
   "metadata": {},
   "outputs": [],
   "source": [
    "%matplotlib notebook\n",
    "import matplotlib.pyplot as plt\n",
    "import numpy as np\n",
    "import rasterio\n",
    "import geojson\n",
    "import firedrake\n",
    "import icepack, icepack.plot, icepack.models"
   ]
  },
  {
   "cell_type": "code",
   "execution_count": null,
   "metadata": {},
   "outputs": [],
   "source": [
    "outline_filename = icepack.datasets.fetch_helheim_outline()\n",
    "with open(outline_filename, 'r') as outline_file:\n",
    "    outline = geojson.load(outline_file)\n",
    "\n",
    "geometry = icepack.meshing.collection_to_geo(outline, lcar=5e3)\n",
    "with open('helheim.geo', 'w') as geo_file:\n",
    "    geo_file.write(geometry.get_code())"
   ]
  },
  {
   "cell_type": "code",
   "execution_count": null,
   "metadata": {},
   "outputs": [],
   "source": [
    "!gmsh -2 -format msh2 -v 2 -o helheim.msh helheim.geo"
   ]
  },
  {
   "cell_type": "code",
   "execution_count": null,
   "metadata": {},
   "outputs": [],
   "source": [
    "mesh = firedrake.Mesh('helheim.msh')"
   ]
  },
  {
   "cell_type": "code",
   "execution_count": null,
   "metadata": {},
   "outputs": [],
   "source": [
    "fig, axes = icepack.plot.subplots()\n",
    "icepack.plot.triplot(mesh, axes=axes)\n",
    "axes.legend()"
   ]
  },
  {
   "cell_type": "code",
   "execution_count": null,
   "metadata": {},
   "outputs": [],
   "source": [
    "thickness_filename = icepack.datasets.fetch_bedmachine_greenland()\n",
    "thickness = rasterio.open('netcdf:' + thickness_filename + ':thickness', 'r')\n",
    "surface = rasterio.open('netcdf:' + thickness_filename + ':surface', 'r')\n",
    "\n",
    "Q = firedrake.FunctionSpace(mesh, family='CG', degree=2)\n",
    "h0 = icepack.interpolate(thickness, Q)\n",
    "s0 = icepack.interpolate(surface, Q)\n",
    "\n",
    "from firedrake import inner, grad, dx\n",
    "def smooth(q0, α):\n",
    "    q = q0.copy(deepcopy=True)\n",
    "    J = 0.5 * ((q - q0)**2 + α**2 * inner(grad(q), grad(q))) * dx\n",
    "    F = firedrake.derivative(J, q)\n",
    "    firedrake.solve(F == 0, q)\n",
    "    return q\n",
    "\n",
    "α = firedrake.Constant(2e3)\n",
    "h = smooth(h0, α)\n",
    "s = smooth(s0, α)"
   ]
  },
  {
   "cell_type": "code",
   "execution_count": null,
   "metadata": {},
   "outputs": [],
   "source": [
    "fig, axes = icepack.plot.subplots()\n",
    "contours = icepack.plot.tricontourf(h, 40, axes=axes)\n",
    "fig.colorbar(contours)"
   ]
  },
  {
   "cell_type": "code",
   "execution_count": null,
   "metadata": {},
   "outputs": [],
   "source": [
    "fig, axes = icepack.plot.subplots()\n",
    "contours = icepack.plot.tricontourf(s, 40, axes=axes)\n",
    "fig.colorbar(contours)"
   ]
  },
  {
   "cell_type": "code",
   "execution_count": null,
   "metadata": {},
   "outputs": [],
   "source": [
    "velocity_filenames = icepack.datasets.fetch_measures_greenland()\n",
    "vx_filename = [f for f in velocity_filenames if 'vx' in f][0]\n",
    "vy_filename = [f for f in velocity_filenames if 'vy' in f][0]\n",
    "vx = rasterio.open(vx_filename, 'r')\n",
    "vy = rasterio.open(vy_filename, 'r')"
   ]
  },
  {
   "cell_type": "code",
   "execution_count": null,
   "metadata": {},
   "outputs": [],
   "source": [
    "V = firedrake.VectorFunctionSpace(mesh, family='CG', degree=2)\n",
    "u_obs = icepack.interpolate((vx, vy), V)"
   ]
  },
  {
   "cell_type": "code",
   "execution_count": null,
   "metadata": {},
   "outputs": [],
   "source": [
    "from firedrake import grad\n",
    "from icepack.constants import ice_density as ρ_I, gravity as g\n",
    "τ = firedrake.project(-ρ_I * g * h * grad(s), V)"
   ]
  },
  {
   "cell_type": "code",
   "execution_count": null,
   "metadata": {},
   "outputs": [],
   "source": [
    "import numpy as np\n",
    "fig, axes = icepack.plot.subplots()\n",
    "levels = np.linspace(0, .5, 51)\n",
    "contours = icepack.plot.tricontourf(τ, levels=levels, extend='max', axes=axes)\n",
    "fig.colorbar(contours)"
   ]
  },
  {
   "cell_type": "code",
   "execution_count": null,
   "metadata": {},
   "outputs": [],
   "source": [
    "u = u_obs.copy(deepcopy=True)\n",
    "from firedrake import sqrt\n",
    "U = sqrt(inner(u, u))\n",
    "Σ = sqrt(inner(τ, τ))\n",
    "C = firedrake.interpolate(0.5 * Σ / U**(1/3), Q)"
   ]
  },
  {
   "cell_type": "code",
   "execution_count": null,
   "metadata": {},
   "outputs": [],
   "source": [
    "T = firedrake.Constant(260.)\n",
    "A = icepack.rate_factor(T)"
   ]
  },
  {
   "cell_type": "code",
   "execution_count": null,
   "metadata": {},
   "outputs": [],
   "source": [
    "ice_stream = icepack.models.IceStream()\n",
    "opts = {'dirichlet_ids': [1, 5, 6], 'side_wall_ids': [2, 4], 'tol': 1e-6}\n",
    "u = ice_stream.diagnostic_solve(u0=u_obs, h=h, s=s, A=A, C=C, **opts)"
   ]
  },
  {
   "cell_type": "code",
   "execution_count": null,
   "metadata": {},
   "outputs": [],
   "source": [
    "fig, axes = icepack.plot.subplots()\n",
    "contours = icepack.plot.tricontourf(u, axes=axes)\n",
    "fig.colorbar(contours)"
   ]
  }
 ],
 "metadata": {
  "kernelspec": {
   "display_name": "firedrake",
   "language": "python",
   "name": "firedrake"
  },
  "language_info": {
   "name": "python",
   "pygments_lexer": "ipython3"
  }
 },
 "nbformat": 4,
 "nbformat_minor": 4
}
