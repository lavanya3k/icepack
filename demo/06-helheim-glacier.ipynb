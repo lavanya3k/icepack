{
 "cells": [
  {
   "cell_type": "code",
   "execution_count": null,
   "metadata": {},
   "outputs": [],
   "source": [
    "%matplotlib notebook\n",
    "import matplotlib.pyplot as plt\n",
    "import numpy as np\n",
    "import rasterio\n",
    "import geojson\n",
    "import firedrake\n",
    "import icepack, icepack.plot, icepack.models"
   ]
  },
  {
   "cell_type": "markdown",
   "metadata": {},
   "source": [
    "# Helheim Glacier\n",
    "\n",
    "In this demo we'll look at Helheim Glacier in southeast Greenland.\n",
    "Helheim is one of the bigger glaciers draining the Greenland Ice Sheet by mass flux along with Jakobshavn, Kangerdlugssuaq, Petermann, and the Northeast Greenland Ice Stream.\n",
    "Much of the procedure for working with real data should be familiar from the demo on [inverse problems](https://icepack.github.io/icepack.demo.04-ice-shelf-inverse.html), where we inferred the fluidity of the Larsen C Ice Shelf in the Antarctic Peninsula.\n",
    "Here we'll use many of the same techniques, only instead of inferring the fluidity, we'll look at the friction coefficient for glacier sliding over the underlying bedrock.\n",
    "In the following, we'll assume that ice flow is by Weertman sliding:\n",
    "\n",
    "$$\\tau_b = -C|u|^{\\frac{1}{m} - 1}u,$$\n",
    "\n",
    "where $\\tau_b$ is the basal shear stress, $u$ is the sliding velocity, $m \\approx 3$ is the friction exponent, and $C$ is the friction coefficient.\n",
    "First, we'll estimate the friction coefficient using a 2D, depth-averaged model.\n",
    "Then we'll use this solution as an initial guess using the 3D hybrid model that we showed in [this demo](https://icepack.github.io/icepack.demo.05-hybrid-ice-stream.html) for a synthetic ice stream."
   ]
  },
  {
   "cell_type": "markdown",
   "metadata": {},
   "source": [
    "### Input data\n",
    "\n",
    "Loading in the mesh and input data should be mostly familiar from the previous demos on Larsen C.\n",
    "We'll be using different data sets since we're looking at Greenland rather than Antarctica this time around."
   ]
  },
  {
   "cell_type": "code",
   "execution_count": null,
   "metadata": {},
   "outputs": [],
   "source": [
    "outline_filename = icepack.datasets.fetch_helheim_outline()\n",
    "with open(outline_filename, 'r') as outline_file:\n",
    "    outline = geojson.load(outline_file)\n",
    "\n",
    "geometry = icepack.meshing.collection_to_geo(outline, lcar=5e3)\n",
    "with open('helheim.geo', 'w') as geo_file:\n",
    "    geo_file.write(geometry.get_code())"
   ]
  },
  {
   "cell_type": "code",
   "execution_count": null,
   "metadata": {},
   "outputs": [],
   "source": [
    "!gmsh -2 -format msh2 -v 2 -o helheim.msh helheim.geo"
   ]
  },
  {
   "cell_type": "code",
   "execution_count": null,
   "metadata": {},
   "outputs": [],
   "source": [
    "mesh = firedrake.Mesh('helheim.msh')"
   ]
  },
  {
   "cell_type": "code",
   "execution_count": null,
   "metadata": {},
   "outputs": [],
   "source": [
    "fig, axes = icepack.plot.subplots()\n",
    "icepack.plot.triplot(mesh, axes=axes)\n",
    "axes.legend()"
   ]
  },
  {
   "cell_type": "code",
   "execution_count": null,
   "metadata": {},
   "outputs": [],
   "source": [
    "thickness_filename = icepack.datasets.fetch_bedmachine_greenland()\n",
    "thickness = rasterio.open('netcdf:' + thickness_filename + ':thickness', 'r')\n",
    "surface = rasterio.open('netcdf:' + thickness_filename + ':surface', 'r')\n",
    "\n",
    "Q = firedrake.FunctionSpace(mesh, family='CG', degree=2)\n",
    "h0 = icepack.interpolate(thickness, Q)\n",
    "s0 = icepack.interpolate(surface, Q)\n",
    "\n",
    "from firedrake import inner, grad, dx\n",
    "def smooth(q0, α):\n",
    "    q = q0.copy(deepcopy=True)\n",
    "    J = 0.5 * ((q - q0)**2 + α**2 * inner(grad(q), grad(q))) * dx\n",
    "    F = firedrake.derivative(J, q)\n",
    "    firedrake.solve(F == 0, q)\n",
    "    return q\n",
    "\n",
    "α = firedrake.Constant(2e3)\n",
    "h = smooth(h0, α)\n",
    "s = smooth(s0, α)"
   ]
  },
  {
   "cell_type": "code",
   "execution_count": null,
   "metadata": {},
   "outputs": [],
   "source": [
    "fig, axes = icepack.plot.subplots()\n",
    "contours = icepack.plot.tricontourf(h, 40, axes=axes)\n",
    "fig.colorbar(contours)"
   ]
  },
  {
   "cell_type": "code",
   "execution_count": null,
   "metadata": {},
   "outputs": [],
   "source": [
    "fig, axes = icepack.plot.subplots()\n",
    "contours = icepack.plot.tricontourf(s, 40, axes=axes)\n",
    "fig.colorbar(contours)"
   ]
  },
  {
   "cell_type": "code",
   "execution_count": null,
   "metadata": {},
   "outputs": [],
   "source": [
    "velocity_filenames = icepack.datasets.fetch_measures_greenland()\n",
    "vx_filename = [f for f in velocity_filenames if 'vx' in f][0]\n",
    "vy_filename = [f for f in velocity_filenames if 'vy' in f][0]\n",
    "vx = rasterio.open(vx_filename, 'r')\n",
    "vy = rasterio.open(vy_filename, 'r')"
   ]
  },
  {
   "cell_type": "code",
   "execution_count": null,
   "metadata": {},
   "outputs": [],
   "source": [
    "V = firedrake.VectorFunctionSpace(mesh, family='CG', degree=2)\n",
    "u_obs = icepack.interpolate((vx, vy), V)"
   ]
  },
  {
   "cell_type": "markdown",
   "metadata": {},
   "source": [
    "Now that we've loaded in the ice thickness and surface elevation, we'll calculate the gravitational driving stress\n",
    "\n",
    "$$\\tau_d = -\\rho_Igh\\nabla s.$$\n",
    "\n",
    "The gravitational driving stress is in balance with internal viscous stresses and with basal stress.\n",
    "By knowing roughly what the magnitudes of the driving stress and the velocity are, we can get a better idea of what a reasonable starting value of the friction coefficient should be."
   ]
  },
  {
   "cell_type": "code",
   "execution_count": null,
   "metadata": {},
   "outputs": [],
   "source": [
    "from firedrake import grad\n",
    "from icepack.constants import ice_density as ρ_I, gravity as g\n",
    "τ = firedrake.project(-ρ_I * g * h * grad(s), V)"
   ]
  },
  {
   "cell_type": "code",
   "execution_count": null,
   "metadata": {},
   "outputs": [],
   "source": [
    "import numpy as np\n",
    "fig, axes = icepack.plot.subplots()\n",
    "levels = np.linspace(0, .5, 51)\n",
    "contours = icepack.plot.tricontourf(τ, levels=levels, extend='max', axes=axes)\n",
    "fig.colorbar(contours, label='megapascals')"
   ]
  },
  {
   "cell_type": "markdown",
   "metadata": {},
   "source": [
    "To initialize the inverse problem, we'll assume that the basal shear stress takes up half of the driving stress.\n",
    "This is a totally ad hoc assumption and it's not obvious a priori that this is going to give us reasonable values of the ice velocity.\n",
    "Nonetheless, it happens to work well enough as a starting point.\n",
    "We'll also need to re-parameterize the basal shear stress in terms of some auxiliary variable $\\theta$ in order to guarantee that the friction coefficient is strictly positive.\n",
    "In the following, we'll use\n",
    "\n",
    "$$\\tau_b = -\\frac{\\tau_0}{u_0^{1/m}}e^{-\\phi}|u|^{\\frac{1}{m} - 1}u$$\n",
    "\n",
    "where $\\tau_0$ and $u_0$ are the average magnitudes of the driving stress and speed respectively."
   ]
  },
  {
   "cell_type": "code",
   "execution_count": null,
   "metadata": {},
   "outputs": [],
   "source": [
    "from firedrake import exp, ln, sqrt, assemble\n",
    "from icepack.constants import weertman_sliding_law as m\n",
    "import icepack.models.friction\n",
    "\n",
    "u = u_obs.copy(deepcopy=True)\n",
    "speed = sqrt(inner(u, u))\n",
    "stress = sqrt(inner(τ, τ))\n",
    "\n",
    "area = assemble(firedrake.Constant(1) * dx(mesh))\n",
    "speed_avg = assemble(speed * dx) / area\n",
    "stress_avg = assemble(stress * dx) / area\n",
    "\n",
    "print('Average speed:  {} meters / year'.format(speed_avg))\n",
    "print('Average stress: {} kilopascals'.format(1e3 * stress_avg))\n",
    "\n",
    "fraction = 0.5\n",
    "C = fraction * stress / speed**(1/m)\n",
    "ϕ = firedrake.interpolate(-ln(speed_avg**(1/m) * C / stress_avg), Q)\n",
    "\n",
    "def bed_friction(u, ϕ):\n",
    "    C = stress_avg / speed_avg**(1/m) * exp(-ϕ)\n",
    "    return icepack.models.friction.bed_friction(u, C)"
   ]
  },
  {
   "cell_type": "markdown",
   "metadata": {},
   "source": [
    "For now, we'll assume that the ice is at a constant -13C.\n",
    "We'll revisit this assumption using a heat flow model later."
   ]
  },
  {
   "cell_type": "code",
   "execution_count": null,
   "metadata": {},
   "outputs": [],
   "source": [
    "T = firedrake.Constant(260.)\n",
    "A = icepack.rate_factor(T)"
   ]
  },
  {
   "cell_type": "code",
   "execution_count": null,
   "metadata": {},
   "outputs": [],
   "source": [
    "ice_stream = icepack.models.IceStream(friction=bed_friction)\n",
    "opts = {'dirichlet_ids': [1, 2, 4, 5, 6], 'tol': 1e-6}\n",
    "u = ice_stream.diagnostic_solve(u0=u_obs, h=h, s=s, A=A, ϕ=ϕ, **opts)"
   ]
  },
  {
   "cell_type": "code",
   "execution_count": null,
   "metadata": {},
   "outputs": [],
   "source": [
    "fig, axes = icepack.plot.subplots()\n",
    "contours = icepack.plot.tricontourf(u, axes=axes)\n",
    "fig.colorbar(contours, label='meters / year')"
   ]
  }
 ],
 "metadata": {
  "kernelspec": {
   "display_name": "firedrake",
   "language": "python",
   "name": "firedrake"
  },
  "language_info": {
   "name": "python",
   "pygments_lexer": "ipython3"
  }
 },
 "nbformat": 4,
 "nbformat_minor": 4
}
