{
 "cells": [
  {
   "cell_type": "code",
   "execution_count": null,
   "metadata": {},
   "outputs": [],
   "source": [
    "%matplotlib inline\n",
    "import matplotlib.pyplot as plt\n",
    "import firedrake\n",
    "from firedrake import inner, div, dx, ds, sqrt\n",
    "import icepack, icepack.models, icepack.plot"
   ]
  },
  {
   "cell_type": "markdown",
   "metadata": {},
   "source": [
    "# Synthetic ice stream\n",
    "\n",
    "In this demo, we'll simulate the evolution of an ice stream with both grounded and floating parts.\n",
    "Ice streams are substantially more complicated than a floating ice shelf.\n",
    "First, there are more fields.\n",
    "For floating ice shelves, we only had to consider the velocity, thickness, and fluidity, but for ice streams there's also the surface elevation and bed friction.\n",
    "Second, the position of the grounded line -- the contour across which the glacier is thin enough to go afloat -- can migrate in time.\n",
    "\n",
    "The diagnostic equation for an ice stream is similar to that of a floating ice shelf, but for the addition of a term for basal friction:\n",
    "\n",
    "$$\\nabla\\cdot hM - C|u|^{1/m - 1}u - \\rho gh\\nabla s = 0,$$\n",
    "\n",
    "where $m$ is the *sliding exponent* and $C$ is the *sliding coefficient*."
   ]
  },
  {
   "cell_type": "markdown",
   "metadata": {},
   "source": [
    "The glacier state we'll start out with is grounded throughout the entire domain, and during the simulation it will thin out and go afloat part way through.\n",
    "Accurately predicting grounding line migration is a major problem in glacier flow modeling."
   ]
  },
  {
   "cell_type": "markdown",
   "metadata": {},
   "source": [
    "### Geometry and input data\n",
    "\n",
    "We'll use an elongated fjord-like geometry, 12 km wide and 50 km from the inflow boundary to the ice front.\n",
    "The bedrock slopes down from 200 m above sea level at the inflow boundary to -400 m at the terminus; the glacier becomes marine one third of the way into the domain."
   ]
  },
  {
   "cell_type": "code",
   "execution_count": null,
   "metadata": {},
   "outputs": [],
   "source": [
    "import numpy as np\n",
    "from numpy import pi as π\n",
    "import pygmsh\n",
    "R = 200e3\n",
    "δx = 10e3\n",
    "θ = π / 3\n",
    "ϕ = 5 * π / 24\n",
    "\n",
    "x1 = np.array([-1, 0, 0])\n",
    "x2 = np.array([+1, 0, 0])\n",
    "y1 = np.array([-np.cos(θ), np.sin(θ), 0])\n",
    "y2 = np.array([+np.cos(θ), np.sin(θ), 0])\n",
    "c1 = 2 * y1\n",
    "c2 = 2 * y2\n",
    "z1 = c1 + np.array([np.cos(θ - ϕ), -np.sin(θ - ϕ), 0])\n",
    "z2 = c2 - np.array([np.cos(θ - ϕ), +np.sin(θ - ϕ), 0])\n",
    "\n",
    "fig, axes = plt.subplots()\n",
    "axes.plot(x1[0], x1[1], 'o', label='x1')\n",
    "axes.plot(y1[0], y1[1], 'o', label='y1')\n",
    "axes.plot(z1[0], z1[1], 'o', label='z1')\n",
    "axes.plot(x2[0], x2[1], 'o', label='x2')\n",
    "axes.plot(y2[0], y2[1], 'o', label='y2')\n",
    "axes.plot(z2[0], z2[1], 'o', label='z2')\n",
    "axes.plot(c1[0], c1[1], '+', label='c1')\n",
    "axes.plot(c2[0], c2[1], '+', label='c2')\n",
    "axes.legend()"
   ]
  },
  {
   "cell_type": "code",
   "execution_count": null,
   "metadata": {},
   "outputs": [],
   "source": [
    "geometry = pygmsh.built_in.Geometry()\n",
    "\n",
    "center0 = geometry.add_point([0, 0, 0], lcar=δx)\n",
    "center1 = geometry.add_point(R * c1, lcar=δx)\n",
    "center2 = geometry.add_point(R * c2, lcar=δx)\n",
    "center3 = geometry.add_point([0, +4 * R, 0], lcar=δx)\n",
    "\n",
    "x1 = geometry.add_point(R * x1, lcar=δx)\n",
    "x2 = geometry.add_point(R * x2, lcar=δx)\n",
    "y1 = geometry.add_point(R * y1, lcar=δx)\n",
    "y2 = geometry.add_point(R * y2, lcar=δx)\n",
    "z1 = geometry.add_point(R * z1, lcar=δx)\n",
    "z2 = geometry.add_point(R * z2, lcar=δx)\n",
    "\n",
    "arcs = [geometry.add_circle_arc(x1, center3, x2),\n",
    "        geometry.add_circle_arc(x2, center0, y2),\n",
    "        geometry.add_circle_arc(y2, center2, z2),\n",
    "        geometry.add_line(z2, z1),\n",
    "        geometry.add_circle_arc(z1, center1, y1),\n",
    "        geometry.add_circle_arc(y1, center0, x1)]\n",
    "\n",
    "line_loop = geometry.add_line_loop(arcs)\n",
    "plane_surface = geometry.add_plane_surface(line_loop)\n",
    "physical_lines = [geometry.add_physical(arc) for arc in arcs]\n",
    "physical_surface = geometry.add_physical(plane_surface)\n",
    "\n",
    "with open('ice-stream.geo', 'w') as geo_file:\n",
    "    geo_file.write(geometry.get_code())\n",
    "    \n",
    "!gmsh -2 -format msh2 -o ice-stream.msh ice-stream.geo"
   ]
  },
  {
   "cell_type": "code",
   "execution_count": null,
   "metadata": {},
   "outputs": [],
   "source": [
    "mesh = firedrake.Mesh('ice-stream.msh')"
   ]
  },
  {
   "cell_type": "code",
   "execution_count": null,
   "metadata": {},
   "outputs": [],
   "source": [
    "fig, axes = icepack.plot.subplots()\n",
    "icepack.plot.triplot(mesh)"
   ]
  },
  {
   "cell_type": "code",
   "execution_count": null,
   "metadata": {},
   "outputs": [],
   "source": [
    "Q = firedrake.FunctionSpace(mesh, family='CG', degree=2)\n",
    "V = firedrake.VectorFunctionSpace(mesh, family='CG', degree=2)"
   ]
  },
  {
   "cell_type": "code",
   "execution_count": null,
   "metadata": {},
   "outputs": [],
   "source": [
    "x, y = firedrake.SpatialCoordinate(mesh)\n",
    "\n",
    "b_in, b_out = 200, -400"
   ]
  },
  {
   "cell_type": "markdown",
   "metadata": {},
   "source": [
    "As a sanity check, we'll evaluate the driving stress\n",
    "\n",
    "$$\\tau_D = -\\rho_Igh\\nabla s$$\n",
    "\n",
    "at the inflow boundary of the ice stream to make sure the value isn't absurd."
   ]
  }
 ],
 "metadata": {
  "kernelspec": {
   "display_name": "firedrake",
   "language": "python",
   "name": "firedrake"
  },
  "language_info": {
   "name": "python",
   "pygments_lexer": "ipython3"
  }
 },
 "nbformat": 4,
 "nbformat_minor": 2
}
