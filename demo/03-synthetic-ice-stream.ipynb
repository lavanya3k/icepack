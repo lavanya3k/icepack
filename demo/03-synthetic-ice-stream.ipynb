{
 "cells": [
  {
   "cell_type": "code",
   "execution_count": null,
   "metadata": {},
   "outputs": [],
   "source": [
    "%matplotlib inline\n",
    "import matplotlib.pyplot as plt\n",
    "import firedrake\n",
    "from firedrake import inner, div, dx, ds, sqrt\n",
    "import icepack, icepack.models, icepack.plot"
   ]
  },
  {
   "cell_type": "markdown",
   "metadata": {},
   "source": [
    "# Synthetic ice stream\n",
    "\n",
    "In this demo, we'll simulate the evolution of a grounded ice stream.\n",
    "Ice streams are substantially more complicated than a floating ice shelf.\n",
    "First, there are more fields.\n",
    "For floating ice shelves, we only had to consider the velocity, thickness, and fluidity, but for ice streams there's also the surface elevation and bed friction.\n",
    "Second, the position of the grounded line -- the contour across which the glacier is thin enough to go afloat -- can migrate in time.\n",
    "\n",
    "The diagnostic equation for an ice stream is similar to that of a floating ice shelf, but for the addition of a term for basal friction:\n",
    "\n",
    "$$\\nabla\\cdot hM - C|u|^{1/m - 1}u - \\rho gh\\nabla s = 0,$$\n",
    "\n",
    "where $m$ is the *sliding exponent* and $C$ is the *sliding coefficient*.\n",
    "\n",
    "The glacier state we'll start out with is grounded throughout the entire domain, and during the simulation it will thin out and go afloat part way through.\n",
    "Accurately predicting grounding line migration is a major problem in glacier flow modeling."
   ]
  },
  {
   "cell_type": "markdown",
   "metadata": {},
   "source": [
    "### Geometry and input data\n",
    "\n",
    "The geometry for this problem is based on that of Helheim Glacier in southeast Greenland.\n",
    "The terminus of Helheim is about 5.2km wide while the inflow region of the Helheim catchment is roughly a semicircle with a radius of 30km.\n",
    "The glacier is about 730m thick at the terminus and 1km thick around the inflow boundary, although in the main trunks the thickness is more like 1200-1500m.\n",
    "Around the inflow boundary, the bed sits roughly 500-800m above sea level, while the fjord bottom is around 670m below sea level at the terminus.\n",
    "Finally, much of the flow of Helheim is dictated by drag at the side walls and around a pair of rocky outcroppings or [nunataks](https://en.wikipedia.org/wiki/Nunatak)."
   ]
  },
  {
   "cell_type": "code",
   "execution_count": null,
   "metadata": {},
   "outputs": [],
   "source": [
    "import numpy as np\n",
    "from numpy import pi as π\n",
    "import pygmsh\n",
    "R = 30e3\n",
    "δx = 2.5e3\n",
    "θ = 7 * π / 24\n",
    "ϕ = 5 * π / 24\n",
    "\n",
    "x1 = np.array([-1, 0, 0])\n",
    "x2 = np.array([+1, 0, 0])\n",
    "y1 = np.array([-np.cos(θ), np.sin(θ), 0])\n",
    "y2 = np.array([+np.cos(θ), np.sin(θ), 0])\n",
    "c1 = 2 * y1\n",
    "c2 = 2 * y2\n",
    "z1 = c1 + np.array([np.cos(-θ + ϕ), np.sin(-θ + ϕ), 0])\n",
    "z2 = c2 + np.array([np.cos(π + θ - ϕ), np.sin(π + θ - ϕ), 0])\n",
    "\n",
    "d1 = np.array([-np.sin(-θ + ϕ), np.cos(-θ + ϕ), 0])\n",
    "d2 = np.array([+np.sin(π + θ - ϕ), -np.cos(π + θ - ϕ), 0])\n",
    "\n",
    "w1 = z1 + 0.5 * d1\n",
    "w2 = z2 + 0.5 * d2"
   ]
  },
  {
   "cell_type": "code",
   "execution_count": null,
   "metadata": {},
   "outputs": [],
   "source": [
    "geometry = pygmsh.built_in.Geometry()\n",
    "\n",
    "center0 = geometry.add_point([0, 0, 0], lcar=δx)\n",
    "center1 = geometry.add_point(R * c1, lcar=δx)\n",
    "center2 = geometry.add_point(R * c2, lcar=δx)\n",
    "center3 = geometry.add_point([0, +4 * R, 0], lcar=δx)\n",
    "\n",
    "x1 = geometry.add_point(R * x1, lcar=δx)\n",
    "x2 = geometry.add_point(R * x2, lcar=δx)\n",
    "y1 = geometry.add_point(R * y1, lcar=δx)\n",
    "y2 = geometry.add_point(R * y2, lcar=δx)\n",
    "z1 = geometry.add_point(R * z1, lcar=δx)\n",
    "z2 = geometry.add_point(R * z2, lcar=δx)\n",
    "w1 = geometry.add_point(R * w1, lcar=δx)\n",
    "w2 = geometry.add_point(R * w2, lcar=δx)\n",
    "\n",
    "arcs = [geometry.add_circle_arc(x1, center3, x2),\n",
    "        geometry.add_circle_arc(x2, center0, y2),\n",
    "        geometry.add_circle_arc(y2, center2, z2),\n",
    "        geometry.add_line(z2, w2),\n",
    "        geometry.add_line(w2, w1),\n",
    "        geometry.add_line(w1, z1),\n",
    "        geometry.add_circle_arc(z1, center1, y1),\n",
    "        geometry.add_circle_arc(y1, center0, x1)]\n",
    "\n",
    "line_loop = geometry.add_line_loop(arcs)\n",
    "plane_surface = geometry.add_plane_surface(line_loop)\n",
    "physical_lines = [geometry.add_physical(arc) for arc in arcs]\n",
    "physical_surface = geometry.add_physical(plane_surface)\n",
    "\n",
    "with open('ice-stream.geo', 'w') as geo_file:\n",
    "    geo_file.write(geometry.get_code())\n",
    "    \n",
    "!gmsh -2 -format msh2 -o ice-stream.msh ice-stream.geo"
   ]
  },
  {
   "cell_type": "code",
   "execution_count": null,
   "metadata": {},
   "outputs": [],
   "source": [
    "mesh = firedrake.Mesh('ice-stream.msh')"
   ]
  },
  {
   "cell_type": "code",
   "execution_count": null,
   "metadata": {},
   "outputs": [],
   "source": [
    "fig, axes = icepack.plot.subplots()\n",
    "icepack.plot.triplot(mesh)"
   ]
  },
  {
   "cell_type": "code",
   "execution_count": null,
   "metadata": {},
   "outputs": [],
   "source": [
    "Q = firedrake.FunctionSpace(mesh, family='CG', degree=2)\n",
    "V = firedrake.VectorFunctionSpace(mesh, family='CG', degree=2)"
   ]
  },
  {
   "cell_type": "code",
   "execution_count": null,
   "metadata": {},
   "outputs": [],
   "source": [
    "x, y = firedrake.SpatialCoordinate(mesh)\n",
    "\n",
    "b_in, b_out = 200, -400"
   ]
  },
  {
   "cell_type": "markdown",
   "metadata": {},
   "source": [
    "As a sanity check, we'll evaluate the driving stress\n",
    "\n",
    "$$\\tau_D = -\\rho_Igh\\nabla s$$\n",
    "\n",
    "at the inflow boundary of the ice stream to make sure the value isn't absurd."
   ]
  }
 ],
 "metadata": {
  "kernelspec": {
   "display_name": "firedrake",
   "language": "python",
   "name": "firedrake"
  },
  "language_info": {
   "name": "python",
   "pygments_lexer": "ipython3"
  }
 },
 "nbformat": 4,
 "nbformat_minor": 2
}
