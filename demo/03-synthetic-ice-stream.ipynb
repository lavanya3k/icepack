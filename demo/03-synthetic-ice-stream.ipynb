{
 "cells": [
  {
   "cell_type": "code",
   "execution_count": null,
   "metadata": {},
   "outputs": [],
   "source": [
    "%matplotlib inline\n",
    "import matplotlib.pyplot as plt\n",
    "import firedrake\n",
    "from firedrake import inner, div, dx, ds, sqrt\n",
    "import icepack, icepack.models, icepack.plot"
   ]
  },
  {
   "cell_type": "markdown",
   "metadata": {},
   "source": [
    "# Synthetic ice stream\n",
    "\n",
    "In this demo, we'll simulate the evolution of a grounded ice stream.\n",
    "Ice streams are substantially more complicated than a floating ice shelf.\n",
    "First, there are more fields.\n",
    "For floating ice shelves, we only had to consider the velocity, thickness, and fluidity, but for ice streams there's also the surface elevation and bed friction.\n",
    "Second, the position of the grounded line -- the contour across which the glacier is thin enough to go afloat -- can migrate in time.\n",
    "\n",
    "The diagnostic equation for an ice stream is similar to that of a floating ice shelf, but for the addition of a term for basal friction:\n",
    "\n",
    "$$\\nabla\\cdot hM - C|u|^{1/m - 1}u - \\rho gh\\nabla s = 0,$$\n",
    "\n",
    "where $m$ is the *sliding exponent* and $C$ is the *sliding coefficient*.\n",
    "\n",
    "The glacier state we'll start out with is grounded throughout the entire domain, and during the simulation it will thin out and go afloat part way through.\n",
    "Accurately predicting grounding line migration is a major problem in glacier flow modeling."
   ]
  },
  {
   "cell_type": "markdown",
   "metadata": {},
   "source": [
    "### Geometry and input data\n",
    "\n",
    "The geometry for this problem is based on that of Helheim Glacier in southeast Greenland.\n",
    "The terminus of Helheim is about 5.2km wide while the inflow region of the Helheim catchment is roughly a semicircle with a radius of 30km.\n",
    "The glacier is about 730m thick at the terminus and 1km thick around the inflow boundary, although in the main trunks the thickness is more like 1200-1500m.\n",
    "Around the inflow boundary, the bed sits roughly 500-800m above sea level, while the fjord bottom is around 670m below sea level at the terminus.\n",
    "Finally, much of the flow of Helheim is dictated by drag at the side walls and around a pair of rocky outcroppings or [nunataks](https://en.wikipedia.org/wiki/Nunatak)."
   ]
  },
  {
   "cell_type": "code",
   "execution_count": null,
   "metadata": {},
   "outputs": [],
   "source": [
    "import numpy as np\n",
    "from numpy import pi as π\n",
    "import pygmsh\n",
    "R = 30e3\n",
    "δx = 2.5e3\n",
    "θ = 7 * π / 24\n",
    "ϕ = 5 * π / 24\n",
    "t = .5\n",
    "\n",
    "w = np.array([+1, 0, 0])\n",
    "x = np.array([np.cos(θ), np.sin(θ), 0])\n",
    "c = 2 * x\n",
    "y = c + np.array([np.cos(π + θ - ϕ), np.sin(π + θ - ϕ), 0])\n",
    "d = np.array([np.sin(π + θ - ϕ), -np.cos(π + θ - ϕ), 0])\n",
    "z = y + t * d\n",
    "\n",
    "xs = np.stack([w, x, y, z])"
   ]
  },
  {
   "cell_type": "code",
   "execution_count": null,
   "metadata": {},
   "outputs": [],
   "source": [
    "geometry = pygmsh.built_in.Geometry()\n",
    "\n",
    "center = geometry.add_point([0, 0, 0], lcar=δx)\n",
    "centerr = geometry.add_point(R * c, lcar=δx)\n",
    "pointsr = [geometry.add_point(R * xs[k, :], lcar=δx) for k in range(len(xs))]\n",
    "arcr = [geometry.add_circle_arc(pointsr[0], center, pointsr[1]),\n",
    "        geometry.add_circle_arc(pointsr[1], centerr, pointsr[2]),\n",
    "        geometry.add_line(pointsr[2], pointsr[3])]\n",
    "\n",
    "centerl = geometry.add_point([-R * c[0], R* c[1], 0], lcar=δx)\n",
    "Q = np.array([[-1, 0, 0], [0, 1, 0], [0, 0, 1]])\n",
    "pointsl = [geometry.add_point(R * Q.dot(xs[k, :]), lcar=δx) for k in range(len(xs))]\n",
    "arcl = [geometry.add_circle_arc(pointsl[1], center, pointsl[0]),\n",
    "        geometry.add_circle_arc(pointsl[2], centerl, pointsl[1]),\n",
    "        geometry.add_line(pointsl[3], pointsl[2])]\n",
    "\n",
    "inflow_center = geometry.add_point([0, 4 * R, 0], lcar=δx)\n",
    "inflow_arc = geometry.add_circle_arc(pointsl[0], inflow_center, pointsr[0])\n",
    "outflow_arc = geometry.add_line(pointsr[-1], pointsl[-1])\n",
    "\n",
    "line_loop = geometry.add_line_loop(arcr + [outflow_arc] + arcl + [inflow_arc])\n",
    "plane_surface = geometry.add_plane_surface(line_loop)\n",
    "physical_lines = [geometry.add_physical(arcr),\n",
    "                  geometry.add_physical(arcl),\n",
    "                  geometry.add_physical(inflow_arc),\n",
    "                  geometry.add_physical(outflow_arc)]\n",
    "physical_surface = geometry.add_physical(plane_surface)\n",
    "\n",
    "with open('ice-stream.geo', 'w') as geo_file:\n",
    "    geo_file.write(geometry.get_code())\n",
    "    \n",
    "!gmsh -2 -format msh2 -o ice-stream.msh ice-stream.geo"
   ]
  },
  {
   "cell_type": "code",
   "execution_count": null,
   "metadata": {},
   "outputs": [],
   "source": [
    "mesh = firedrake.Mesh('ice-stream.msh')"
   ]
  },
  {
   "cell_type": "code",
   "execution_count": null,
   "metadata": {},
   "outputs": [],
   "source": [
    "fig, axes = icepack.plot.subplots()\n",
    "icepack.plot.triplot(mesh)"
   ]
  },
  {
   "cell_type": "code",
   "execution_count": null,
   "metadata": {},
   "outputs": [],
   "source": [
    "Q = firedrake.FunctionSpace(mesh, family='CG', degree=2)\n",
    "V = firedrake.VectorFunctionSpace(mesh, family='CG', degree=2)"
   ]
  },
  {
   "cell_type": "code",
   "execution_count": null,
   "metadata": {},
   "outputs": [],
   "source": [
    "x, y = firedrake.SpatialCoordinate(mesh)\n",
    "\n",
    "b_in, b_out = 200, -400"
   ]
  },
  {
   "cell_type": "markdown",
   "metadata": {},
   "source": [
    "As a sanity check, we'll evaluate the driving stress\n",
    "\n",
    "$$\\tau_D = -\\rho_Igh\\nabla s$$\n",
    "\n",
    "at the inflow boundary of the ice stream to make sure the value isn't absurd."
   ]
  }
 ],
 "metadata": {
  "kernelspec": {
   "display_name": "firedrake",
   "language": "python",
   "name": "firedrake"
  },
  "language_info": {
   "name": "python",
   "pygments_lexer": "ipython3"
  }
 },
 "nbformat": 4,
 "nbformat_minor": 2
}
