{
 "cells": [
  {
   "cell_type": "code",
   "execution_count": null,
   "metadata": {},
   "outputs": [],
   "source": [
    "%matplotlib notebook\n",
    "import matplotlib.pyplot as plt\n",
    "import firedrake\n",
    "import icepack, icepack.models, icepack.plot"
   ]
  },
  {
   "cell_type": "markdown",
   "metadata": {},
   "source": [
    "# Synthetic ice sheet\n",
    "\n",
    "In this demo we'll run an experiment inspired by the paper [*Fjord insertion into continental margins\n",
    "driven by topographic steering of ice*](https://www.nature.com/articles/ngeo201) by Kessler and others.\n",
    "This work simulated the evolution of an entire ice sheet on millenial timescales, with the added twist that the bedrock topography could evolve under the influence of erosion."
   ]
  },
  {
   "cell_type": "markdown",
   "metadata": {},
   "source": [
    "### Geometry\n",
    "\n",
    "The model domain is a circle 250 km wide, but with a 1km-high ridge at a radius of 200 km.\n",
    "This ridge is punctuated by four valleys of varying depths from which ice streams form."
   ]
  },
  {
   "cell_type": "code",
   "execution_count": null,
   "metadata": {},
   "outputs": [],
   "source": [
    "import pygmsh\n",
    "\n",
    "R = 250e3\n",
    "δx = 25e3\n",
    "\n",
    "geometry = pygmsh.built_in.Geometry()\n",
    "\n",
    "points = [geometry.add_point([+R, 0, 0], lcar=δx),\n",
    "          geometry.add_point([0, +R, 0], lcar=δx),\n",
    "          geometry.add_point([-R, 0, 0], lcar=δx),\n",
    "          geometry.add_point([0, -R, 0], lcar=δx)]\n",
    "center = geometry.add_point([0, 0, 0], lcar=δx)\n",
    "\n",
    "arcs = [geometry.add_circle_arc(points[k], center, points[(k + 1) % len(points)])\n",
    "        for k in range(len(points))]\n",
    "\n",
    "line_loop = geometry.add_line_loop(arcs)\n",
    "plane_surface = geometry.add_plane_surface(line_loop)\n",
    "\n",
    "physical_lines = [geometry.add_physical(arc) for arc in arcs]\n",
    "physical_surface = geometry.add_physical(plane_surface)"
   ]
  },
  {
   "cell_type": "markdown",
   "metadata": {},
   "source": [
    "Now we're going to do some fancy tricks to make the mesh more refined around the mountain range.\n",
    "See gmsh example 10."
   ]
  },
  {
   "cell_type": "code",
   "execution_count": null,
   "metadata": {},
   "outputs": [],
   "source": [
    "code = geometry.get_code()\n",
    "\n",
    "code += \"\"\"\n",
    "lc = {1:};\n",
    "\n",
    "Field[1] = Distance;\n",
    "Field[1].NNodesByEdge = 100;\n",
    "Field[1].EdgesList = {{{0:}}};\n",
    "\n",
    "Field[2] = Threshold;\n",
    "Field[2].IField = 1;\n",
    "Field[2].LcMin = lc / 30;\n",
    "Field[2].LcMax = lc;\n",
    "Field[2].DistMin = 1e3;\n",
    "Field[2].DistMax = 50e3;\n",
    "\n",
    "Background Field = 2;\n",
    "\n",
    "Mesh.CharacteristicLengthExtendFromBoundary = 0;\n",
    "Mesh.CharacteristicLengthFromPoints = 0;\n",
    "Mesh.CharacteristicLengthFromCurvature = 0;\n",
    "\"\"\".format(', '.join([arc.id for arc in arcs]), δx)\n",
    "\n",
    "print(code)\n",
    "\n",
    "with open('ice-sheet.geo', 'w') as geo_file:\n",
    "    geo_file.write(code)"
   ]
  },
  {
   "cell_type": "code",
   "execution_count": null,
   "metadata": {},
   "outputs": [],
   "source": [
    "!gmsh -2 -format msh2 -o ice-sheet.msh ice-sheet.geo"
   ]
  },
  {
   "cell_type": "code",
   "execution_count": null,
   "metadata": {},
   "outputs": [],
   "source": [
    "mesh = firedrake.Mesh('ice-sheet.msh')"
   ]
  },
  {
   "cell_type": "code",
   "execution_count": null,
   "metadata": {},
   "outputs": [],
   "source": [
    "fig, axes = icepack.plot.subplots()\n",
    "icepack.plot.triplot(mesh)"
   ]
  }
 ],
 "metadata": {
  "kernelspec": {
   "display_name": "firedrake",
   "language": "python",
   "name": "firedrake"
  },
  "language_info": {
   "name": "python",
   "pygments_lexer": "ipython3"
  }
 },
 "nbformat": 4,
 "nbformat_minor": 2
}
