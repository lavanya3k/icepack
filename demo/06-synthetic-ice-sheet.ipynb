{
 "cells": [
  {
   "cell_type": "code",
   "execution_count": null,
   "metadata": {},
   "outputs": [],
   "source": [
    "%matplotlib notebook\n",
    "import matplotlib.pyplot as plt\n",
    "import firedrake\n",
    "import icepack, icepack.models, icepack.plot"
   ]
  },
  {
   "cell_type": "markdown",
   "metadata": {},
   "source": [
    "# Synthetic ice sheet\n",
    "\n",
    "In this demo we'll run an experiment inspired by the paper [*Fjord insertion into continental margins\n",
    "driven by topographic steering of ice*](https://www.nature.com/articles/ngeo201) by Kessler and others.\n",
    "This work simulated the evolution of an entire ice sheet on millenial timescales, with the added twist that the bedrock topography could evolve under the influence of erosion."
   ]
  },
  {
   "cell_type": "markdown",
   "metadata": {},
   "source": [
    "### Geometry\n",
    "\n",
    "The model domain is a circle 250 km wide, but with a 1km-high ridge at a radius of 200 km.\n",
    "This ridge is punctuated by four valleys of varying depths from which ice streams form."
   ]
  },
  {
   "cell_type": "code",
   "execution_count": null,
   "metadata": {},
   "outputs": [],
   "source": [
    "import pygmsh\n",
    "\n",
    "R = 250e3\n",
    "δx = 15e3\n",
    "\n",
    "geometry = pygmsh.built_in.Geometry()\n",
    "\n",
    "points = [geometry.add_point([+R, 0, 0], lcar=δx),\n",
    "          geometry.add_point([0, +R, 0], lcar=δx),\n",
    "          geometry.add_point([-R, 0, 0], lcar=δx),\n",
    "          geometry.add_point([0, -R, 0], lcar=δx)]\n",
    "center = geometry.add_point([0, 0, 0], lcar=δx)\n",
    "\n",
    "arcs = [geometry.add_circle_arc(points[k], center, points[(k + 1) % len(points)])\n",
    "        for k in range(len(points))]\n",
    "\n",
    "line_loop = geometry.add_line_loop(arcs)\n",
    "plane_surface = geometry.add_plane_surface(line_loop)\n",
    "\n",
    "physical_lines = [geometry.add_physical(arc) for arc in arcs]\n",
    "physical_surface = geometry.add_physical(plane_surface)"
   ]
  },
  {
   "cell_type": "markdown",
   "metadata": {},
   "source": [
    "Now we're going to do some fancy tricks to make the mesh more refined around the mountain range.\n",
    "First, we'll make some circular arcs around the radius of 200km.\n",
    "We won't put these arcs in any physical entity, so they won't get included in the output geometry; they're just there as a cue for later geometric constructions."
   ]
  },
  {
   "cell_type": "code",
   "execution_count": null,
   "metadata": {},
   "outputs": [],
   "source": [
    "r = 125e3\n",
    "cpoints = [geometry.add_point([+r, 0, 0], lcar=δx),\n",
    "           geometry.add_point([0, +r, 0], lcar=δx),\n",
    "           geometry.add_point([-r, 0, 0], lcar=δx),\n",
    "           geometry.add_point([0, -r, 0], lcar=δx)]\n",
    "\n",
    "carcs = [geometry.add_circle_arc(cpoints[k], center, cpoints[(k + 1) % len(cpoints)])\n",
    "         for k in range(len(cpoints))]"
   ]
  },
  {
   "cell_type": "markdown",
   "metadata": {},
   "source": [
    "Then we'll add a bit of text to the end of the code for the geometry that creates field objects.\n",
    "The value of this field transitions from the characteristic length of 15km throughout most of the domain down to 1km in the neighborhood of the mountain range.\n",
    "Finally, we'll set this as the background field determining the mesh's characteristic length scale and turn off all the other built-in methods for setting the characteristic length."
   ]
  },
  {
   "cell_type": "code",
   "execution_count": null,
   "metadata": {},
   "outputs": [],
   "source": [
    "code = geometry.get_code()\n",
    "\n",
    "code += \"\"\"\n",
    "lc = {lc:};\n",
    "\n",
    "Field[1] = Distance;\n",
    "Field[1].NNodesByEdge = 100;\n",
    "Field[1].EdgesList = {{{edges:}}};\n",
    "\n",
    "Field[2] = Threshold;\n",
    "Field[2].IField = 1;\n",
    "Field[2].LcMin = lc / {shrink_factor:};\n",
    "Field[2].LcMax = lc;\n",
    "Field[2].DistMin = {dist_min:};\n",
    "Field[2].DistMax = {dist_max:};\n",
    "\n",
    "Background Field = 2;\n",
    "\n",
    "Mesh.CharacteristicLengthExtendFromBoundary = 0;\n",
    "Mesh.CharacteristicLengthFromPoints = 0;\n",
    "Mesh.CharacteristicLengthFromCurvature = 0;\n",
    "\"\"\".format(edges=', '.join([arc.id for arc in carcs]), lc=δx, shrink_factor=5.,\n",
    "           dist_min=40e3, dist_max=60e3)\n",
    "\n",
    "with open('ice-sheet.geo', 'w') as geo_file:\n",
    "    geo_file.write(code)"
   ]
  },
  {
   "cell_type": "markdown",
   "metadata": {},
   "source": [
    "You can see the result by plotting the mesh -- everything is much more refined around the mountain range."
   ]
  },
  {
   "cell_type": "code",
   "execution_count": null,
   "metadata": {},
   "outputs": [],
   "source": [
    "!gmsh -2 -format msh2 -o ice-sheet.msh ice-sheet.geo"
   ]
  },
  {
   "cell_type": "code",
   "execution_count": null,
   "metadata": {},
   "outputs": [],
   "source": [
    "mesh = firedrake.Mesh('ice-sheet.msh')"
   ]
  },
  {
   "cell_type": "code",
   "execution_count": null,
   "metadata": {},
   "outputs": [],
   "source": [
    "fig, axes = icepack.plot.subplots()\n",
    "icepack.plot.triplot(mesh)"
   ]
  },
  {
   "cell_type": "code",
   "execution_count": null,
   "metadata": {},
   "outputs": [],
   "source": [
    "from firedrake import exp, sqrt\n",
    "x, y = firedrake.SpatialCoordinate(mesh)\n",
    "\n",
    "def tanh(z):\n",
    "    return (exp(z) - exp(-z)) / (exp(z) + exp(-z))\n",
    "\n",
    "def θ(z):\n",
    "    return (tanh(z) + 1) / 2\n",
    "\n",
    "def sech(z):\n",
    "    return 2 / (exp(z) + exp(-z))\n",
    "\n",
    "b0 = firedrake.Constant(400)\n",
    "h0 = firedrake.Constant(1000)\n",
    "\n",
    "a = firedrake.Constant(50e3)\n",
    "ξ = (sqrt(x**2 + y**2) - r) / a\n",
    "\n",
    "ρ1 = firedrake.Constant(1/4)\n",
    "μ1 = 1 - ρ1 * θ(3 * (x - r/4) / a) * sech(2 * y / a)\n",
    "\n",
    "ρ2 = firedrake.Constant(3/8)\n",
    "μ2 = 1 - ρ2 * θ(3 * (y - r/4) / a) * sech(2 * x / a)\n",
    "\n",
    "ρ3 = firedrake.Constant(1/2)\n",
    "μ3 = 1 - ρ3 * θ(3 * (-x + r/4) / a) * sech(2 * y / a)\n",
    "\n",
    "ρ4 = firedrake.Constant(5/8)\n",
    "μ4 = 1 - ρ4 * θ(3 * (-y + r/4) / a) * sech(2 * x / a)\n",
    "\n",
    "b_expr = b0 * (1 - θ(3 * ξ)) + (h0 - b0) * sech(2 * ξ) * μ1 * μ2 * μ3 * μ4"
   ]
  },
  {
   "cell_type": "code",
   "execution_count": null,
   "metadata": {},
   "outputs": [],
   "source": [
    "Q = firedrake.FunctionSpace(mesh, family='CG', degree=2)\n",
    "b = firedrake.interpolate(b_expr, Q)"
   ]
  },
  {
   "cell_type": "code",
   "execution_count": null,
   "metadata": {},
   "outputs": [],
   "source": [
    "fig, axes = icepack.plot.subplots()\n",
    "contours = icepack.plot.tricontourf(b, 40, cmap='magma', axes=axes)\n",
    "fig.colorbar(contours)"
   ]
  },
  {
   "cell_type": "code",
   "execution_count": null,
   "metadata": {},
   "outputs": [],
   "source": [
    "firedrake.plot(b, cmap='magma', plot3d=True)"
   ]
  }
 ],
 "metadata": {
  "kernelspec": {
   "display_name": "firedrake",
   "language": "python",
   "name": "firedrake"
  },
  "language_info": {
   "name": "python",
   "pygments_lexer": "ipython3"
  }
 },
 "nbformat": 4,
 "nbformat_minor": 2
}
