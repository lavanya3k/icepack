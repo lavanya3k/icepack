{
 "cells": [
  {
   "cell_type": "code",
   "execution_count": null,
   "metadata": {},
   "outputs": [],
   "source": [
    "%matplotlib notebook\n",
    "import os\n",
    "import matplotlib.pyplot as plt\n",
    "import numpy as np\n",
    "import firedrake\n",
    "import icepack, icepack.plot, icepack.models"
   ]
  },
  {
   "cell_type": "markdown",
   "metadata": {},
   "source": [
    "# Jakobshavn, the Beast\n",
    "\n",
    "In this demo we'll study the fastest glacier on earth: Jakobshavn Isbrae, or Sermeq Kujalleq if you prefer the Greenlandic name.\n",
    "We'll tread over some familiar territory, albeit in an unfamiliar way.\n",
    "To initialize the simulation, we'll estimate the friction coefficient using the shallow stream equations.\n",
    "But for the fact that we're using a slightly more sophisticated physics model and inferring the friction instead of the rheology, this should all be familiar from demo \\#4.\n",
    "\n",
    "Next we'll lift everything up into 3D and study how heat is transported through a glacier.\n",
    "The physical effect that we want to demonstrate is how strain heating softens the margins.\n",
    "The field of interest here is the *internal energy density* $E$, which has units of MPa / m${}^3$.\n",
    "The internal energy density encompasses both the ice temperature and the latent heat stored in meltwater.\n",
    "For a given temperature $T$ and meltwater fraction $f$, the internal energy density is\n",
    "$$E = \\rho (c_pT + Lf)$$\n",
    "where $c_p$ is the specific heat capacity of ice at constant pressure and $L$ is the latent heat of melting.\n",
    "An englacial meltwater fraction of 0.33% is on the high side.\n",
    "The energy density can be a much more convenient field to work with than the temperature because we don't have to track the moving cold-temperate transition surface.\n",
    "\n",
    "Thermal energy is transported by two mechanisms: advection and vertical diffusion.\n",
    "Horizontal diffusion is completely negligible.\n",
    "The main sources of thermal energy are geothermal heating from the ice base, exchange of heat with the atmosphere at the ice surface, and strain heating from within.\n",
    "Putting all this together, the equations of heat transport are:\n",
    "$$\\frac{\\partial E}{\\partial t} + \\nabla\\cdot Eu - \\frac{\\partial}{\\partial z}\\alpha\\frac{\\partial E}{\\partial z} = \\tau : \\dot\\varepsilon,$$\n",
    "with the boundary condition\n",
    "$$-Ew + \\alpha\\frac{\\partial E}{\\partial z} = q_b$$\n",
    "at the ice base."
   ]
  },
  {
   "cell_type": "markdown",
   "metadata": {},
   "source": [
    "### Input data\n",
    "\n",
    "First, we'll load in a coarse mesh of the domain.\n",
    "This mesh won't have the kind of resolution that we need to capture the sharp thickness gradients that occur near the Jakobshavn trough.\n",
    "Rather than refine the geometry using gmsh, I'll show you how to get a uniform refinement of a domain entirely from within firedrake."
   ]
  },
  {
   "cell_type": "code",
   "execution_count": null,
   "metadata": {},
   "outputs": [],
   "source": [
    "data_directory = os.environ['ICEPACK_DATA']"
   ]
  },
  {
   "cell_type": "code",
   "execution_count": null,
   "metadata": {},
   "outputs": [],
   "source": [
    "mesh_coarse = firedrake.Mesh(os.path.join(data_directory, 'meshes/jakobshavn/jakobshavn.msh'))\n",
    "\n",
    "fig, axes = icepack.plot.subplots()\n",
    "axes.set_xlabel('meters')\n",
    "axes.grid()\n",
    "icepack.plot.triplot(mesh_coarse, axes=axes, linewidth=2)\n",
    "plt.show(fig)"
   ]
  },
  {
   "cell_type": "markdown",
   "metadata": {},
   "source": [
    "The firedrake function `MeshHierarchy` will generate a sequence of uniformly refined meshes from an initial coarse mesh.\n",
    "Mesh hierarchies make it easy to implement the geometric multigrid method, but we won't discuss that here.\n",
    "Instead, we'll just take the last element of the list."
   ]
  },
  {
   "cell_type": "code",
   "execution_count": null,
   "metadata": {},
   "outputs": [],
   "source": [
    "mesh_hierarchy = firedrake.MeshHierarchy(mesh_coarse, refinement_levels=1)\n",
    "mesh = mesh_hierarchy[-1]\n",
    "\n",
    "fig, axes = icepack.plot.subplots()\n",
    "axes.set_xlabel('meters')\n",
    "axes.grid()\n",
    "icepack.plot.triplot(mesh, axes=axes, linewidth=2)\n",
    "plt.show(fig)"
   ]
  },
  {
   "cell_type": "markdown",
   "metadata": {},
   "source": [
    "Reading in and interpolating gridded data works just like before."
   ]
  },
  {
   "cell_type": "code",
   "execution_count": null,
   "metadata": {},
   "outputs": [],
   "source": [
    "from icepack.grid import arcinfo\n",
    "surface = arcinfo.read(os.path.join(data_directory, 'bedmachine_greenland/jakobshavn-surface.txt'))\n",
    "bed = arcinfo.read(os.path.join(data_directory, 'bedmachine_greenland/jakobshavn-bed.txt'))\n",
    "vx = arcinfo.read(os.path.join(data_directory, 'measures_greenland/annual/jakobshavn-vx.txt'))\n",
    "vy = arcinfo.read(os.path.join(data_directory, 'measures_greenland/annual/jakobshavn-vy.txt'))"
   ]
  },
  {
   "cell_type": "code",
   "execution_count": null,
   "metadata": {},
   "outputs": [],
   "source": [
    "degree = 2\n",
    "Q = firedrake.FunctionSpace(mesh, family='CG', degree=degree)\n",
    "V = firedrake.VectorFunctionSpace(mesh, family='CG', degree=degree)\n",
    "\n",
    "s = icepack.interpolate(surface, Q)\n",
    "b = icepack.interpolate(bed, Q)\n",
    "h = icepack.interpolate(s - b, Q)\n",
    "u_obs = icepack.interpolate((vx, vy), V)"
   ]
  },
  {
   "cell_type": "markdown",
   "metadata": {},
   "source": [
    "Jakobshavn flows through a massive trench that goes from a depth of just above sea level to 1.5km below, all in a space of less 5km.\n",
    "It's likely that the glacier itself gouged out this feature from the bedrock through millenia of erosion.\n",
    "We'll be using simplified flow models in this demo for illustrative purposes, but the relief here is so extreme that even the assumption of a low aspect ratio is questionable.\n",
    "If you were doing \"serious\" work you'd probably want to use the full Stokes equations."
   ]
  },
  {
   "cell_type": "code",
   "execution_count": null,
   "metadata": {},
   "outputs": [],
   "source": [
    "fig, axes = icepack.plot.subplots()\n",
    "contours = icepack.plot.tricontourf(b, 40, cmap='magma', axes=axes)\n",
    "colorbar = fig.colorbar(contours)\n",
    "plt.show(fig)"
   ]
  },
  {
   "cell_type": "markdown",
   "metadata": {},
   "source": [
    "### Estimating basal friction\n",
    "\n",
    "The heat generated at the ice base from sliding is a key input to the thermal transport equation, but we have no a priori measurements of sliding friction.\n",
    "We can estimate a sensible value using inverse methods, much like we did for the rheology of the Larsen Ice Shelf.\n",
    "Unfortunately, for grounded glaciers things get really circular really quick -- we need a basal friction to estimate temperature, but we need a temperature to estimate basal friction.\n",
    "A single snapshot measurement of the glacier thickness and velocity is not enough to infer both at the same time.\n",
    "\n",
    "As a first guess for the friction coefficient, we'll assume that the bed supports half of the overall driving stress, while the remaining half is taken up by longitudinal extension.\n",
    "The driving stress is proportional to the surface slope, and calculating this directly amounts to differentiating a noisy data set.\n",
    "To avoid any artifacts we'll instead apply a smoothing filter first."
   ]
  },
  {
   "cell_type": "code",
   "execution_count": null,
   "metadata": {},
   "outputs": [],
   "source": [
    "from icepack.constants import rho_ice as ρ_I, gravity as g\n",
    "from firedrake import inner, grad, dx\n",
    "f = -ρ_I * g * h * inner(grad(s), u_obs) / firedrake.sqrt(inner(u_obs, u_obs))\n",
    "τ_d = firedrake.Function(Q)\n",
    "L = 5e3\n",
    "J = 0.5 * ((τ_d - f)**2 + L**2 * inner(grad(τ_d), grad(τ_d))) * dx\n",
    "firedrake.solve(firedrake.derivative(J, τ_d) == 0, τ_d,\n",
    "                solver_parameters={'ksp_type': 'preonly', 'pc_type': 'lu'})"
   ]
  },
  {
   "cell_type": "code",
   "execution_count": null,
   "metadata": {},
   "outputs": [],
   "source": [
    "fig, axes = icepack.plot.subplots()\n",
    "contours = icepack.plot.tricontourf(τ_d, 40, cmap='magma', axes=axes)\n",
    "colorbar = fig.colorbar(contours)\n",
    "colorbar.set_label('MPa')\n",
    "plt.show(fig)"
   ]
  }
 ],
 "metadata": {
  "language_info": {
   "name": "python",
   "pygments_lexer": "ipython3"
  }
 },
 "nbformat": 4,
 "nbformat_minor": 2
}
