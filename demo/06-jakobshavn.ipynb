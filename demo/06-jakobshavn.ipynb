{
 "cells": [
  {
   "cell_type": "code",
   "execution_count": null,
   "metadata": {},
   "outputs": [],
   "source": [
    "%matplotlib notebook\n",
    "import os\n",
    "import matplotlib.pyplot as plt\n",
    "import numpy as np\n",
    "import firedrake\n",
    "import icepack, icepack.plot, icepack.models"
   ]
  },
  {
   "cell_type": "markdown",
   "metadata": {},
   "source": [
    "# Jakobshavn, the Beast\n",
    "\n",
    "In this demo we'll study the fastest glacier on earth: Jakobshavn Isbrae, or Sermeq Kujalleq if you prefer the Greenlandic name.\n",
    "We'll tread over some familiar territory, albeit in an unfamiliar way.\n",
    "To initialize the simulation, we'll estimate the friction coefficient using the shallow stream equations.\n",
    "But for the fact that we're using a slightly more sophisticated physics model and inferring the friction instead of the rheology, this should all be familiar from demo \\#4.\n",
    "\n",
    "Next we'll lift everything up into 3D and study how heat is transported through a glacier.\n",
    "The physical effect that we want to demonstrate is how strain heating softens the margins.\n",
    "The field of interest here is the *internal energy density* $E$, which has units of MPa / m${}^3$.\n",
    "The internal energy density encompasses both the ice temperature and the latent heat stored in meltwater.\n",
    "For a given temperature $T$ and meltwater fraction $f$, the internal energy density is\n",
    "$$E = \\rho (c_pT + Lf)$$\n",
    "where $c_p$ is the specific heat capacity of ice at constant pressure and $L$ is the latent heat of melting.\n",
    "An englacial meltwater fraction of 0.33% is on the high side.\n",
    "The energy density can be a much more convenient field to work with than the temperature because we don't have to track the moving cold-temperate transition surface.\n",
    "\n",
    "Thermal energy is transported by two mechanisms: advection and vertical diffusion.\n",
    "Horizontal diffusion is completely negligible.\n",
    "The main sources of thermal energy are geothermal heating from the ice base, exchange of heat with the atmosphere at the ice surface, and strain heating from within.\n",
    "Putting all this together, the equations of heat transport are:\n",
    "$$\\frac{\\partial E}{\\partial t} + \\nabla\\cdot Eu - \\frac{\\partial}{\\partial z}\\alpha\\frac{\\partial E}{\\partial z} = \\tau : \\dot\\varepsilon,$$\n",
    "with the boundary condition\n",
    "$$-Ew + \\alpha\\frac{\\partial E}{\\partial z} = q_b$$\n",
    "at the ice base."
   ]
  },
  {
   "cell_type": "markdown",
   "metadata": {},
   "source": [
    "### Input data\n",
    "\n",
    "First, we'll load in a coarse mesh of the domain.\n",
    "This mesh won't have the kind of resolution that we need to capture the sharp thickness gradients that occur near the Jakobshavn trough.\n",
    "Rather than refine the geometry using gmsh, I'll show you how to get a uniform refinement of a domain entirely from within firedrake."
   ]
  },
  {
   "cell_type": "code",
   "execution_count": null,
   "metadata": {},
   "outputs": [],
   "source": [
    "data_directory = os.environ['ICEPACK_DATA']"
   ]
  },
  {
   "cell_type": "code",
   "execution_count": null,
   "metadata": {},
   "outputs": [],
   "source": [
    "mesh_coarse = firedrake.Mesh(os.path.join(data_directory, 'meshes/jakobshavn/jakobshavn.msh'))\n",
    "\n",
    "fig, axes = icepack.plot.subplots()\n",
    "axes.set_xlabel('meters')\n",
    "axes.grid()\n",
    "icepack.plot.triplot(mesh_coarse, axes=axes, linewidth=2)\n",
    "plt.show(fig)"
   ]
  },
  {
   "cell_type": "markdown",
   "metadata": {},
   "source": [
    "The firedrake function `MeshHierarchy` will generate a sequence of uniformly refined meshes from an initial coarse mesh.\n",
    "Mesh hierarchies make it easy to implement the geometric multigrid method, but we won't discuss that here.\n",
    "Instead, we'll just take the last element of the list."
   ]
  },
  {
   "cell_type": "code",
   "execution_count": null,
   "metadata": {},
   "outputs": [],
   "source": [
    "mesh_hierarchy = firedrake.MeshHierarchy(mesh_coarse, refinement_levels=1)\n",
    "mesh = mesh_hierarchy[-1]\n",
    "\n",
    "fig, axes = icepack.plot.subplots()\n",
    "axes.set_xlabel('meters')\n",
    "axes.grid()\n",
    "icepack.plot.triplot(mesh, axes=axes, linewidth=2)\n",
    "plt.show(fig)"
   ]
  },
  {
   "cell_type": "markdown",
   "metadata": {},
   "source": [
    "Reading in and interpolating gridded data works just like before."
   ]
  },
  {
   "cell_type": "code",
   "execution_count": null,
   "metadata": {},
   "outputs": [],
   "source": [
    "from icepack.grid import arcinfo\n",
    "surface = arcinfo.read(os.path.join(data_directory, 'bedmachine_greenland/jakobshavn-surface.txt'))\n",
    "bed = arcinfo.read(os.path.join(data_directory, 'bedmachine_greenland/jakobshavn-bed.txt'))\n",
    "vx = arcinfo.read(os.path.join(data_directory, 'measures_greenland/annual/jakobshavn-vx.txt'))\n",
    "vy = arcinfo.read(os.path.join(data_directory, 'measures_greenland/annual/jakobshavn-vy.txt'))\n",
    "ex = arcinfo.read(os.path.join(data_directory, 'measures_greenland/annual/jakobshavn-ex.txt'))\n",
    "ey = arcinfo.read(os.path.join(data_directory, 'measures_greenland/annual/jakobshavn-ey.txt'))"
   ]
  },
  {
   "cell_type": "code",
   "execution_count": null,
   "metadata": {},
   "outputs": [],
   "source": [
    "degree = 2\n",
    "Q = firedrake.FunctionSpace(mesh, family='CG', degree=degree)\n",
    "V = firedrake.VectorFunctionSpace(mesh, family='CG', degree=degree)\n",
    "\n",
    "s = icepack.interpolate(surface, Q)\n",
    "b = icepack.interpolate(bed, Q)\n",
    "h = icepack.interpolate(s - b, Q)\n",
    "\n",
    "u_obs = icepack.interpolate((vx, vy), V)\n",
    "σx = icepack.interpolate(ex, Q)\n",
    "σy = icepack.interpolate(ey, Q)"
   ]
  },
  {
   "cell_type": "code",
   "execution_count": null,
   "metadata": {},
   "outputs": [],
   "source": [
    "fig, axes = icepack.plot.subplots()\n",
    "contours = icepack.plot.tricontourf(u_obs, 40, cmap='magma', axes=axes)\n",
    "colorbar = fig.colorbar(contours)\n",
    "colorbar.set_label('m / year')\n",
    "plt.show(fig)"
   ]
  },
  {
   "cell_type": "markdown",
   "metadata": {},
   "source": [
    "Jakobshavn flows through a massive trench that goes from a depth of just above sea level to 1.5km below, all in a space of less 5km.\n",
    "It's likely that the glacier itself gouged out this feature from the bedrock through millenia of erosion.\n",
    "We'll be using simplified flow models in this demo for illustrative purposes, but the relief here is so extreme that even the assumption of a low aspect ratio is questionable.\n",
    "If you were doing \"serious\" work you'd probably want to use the full Stokes equations."
   ]
  },
  {
   "cell_type": "code",
   "execution_count": null,
   "metadata": {},
   "outputs": [],
   "source": [
    "fig, axes = icepack.plot.subplots()\n",
    "contours = icepack.plot.tricontourf(b, 40, cmap='magma', axes=axes)\n",
    "colorbar = fig.colorbar(contours)\n",
    "plt.show(fig)"
   ]
  },
  {
   "cell_type": "markdown",
   "metadata": {},
   "source": [
    "### Estimating basal friction\n",
    "\n",
    "The heat generated at the ice base from sliding is a key input to the thermal transport equation, but we have no a priori measurements of sliding friction.\n",
    "We can estimate a sensible value using inverse methods, much like we did for the rheology of the Larsen Ice Shelf.\n",
    "Unfortunately, for grounded glaciers things get really circular really quick -- we need a basal friction to estimate temperature, but we need a temperature to estimate basal friction.\n",
    "A single snapshot measurement of the glacier thickness and velocity is not enough to infer both at the same time.\n",
    "\n",
    "As a first guess for the friction coefficient, we'll assume that the bed supports most of the driving stress, while the rest is taken up by longitudinal extension.\n",
    "The driving stress is proportional to the surface slope, and calculating this directly amounts to differentiating a noisy data set.\n",
    "To avoid any artifacts we'll apply a smoothing filter first."
   ]
  },
  {
   "cell_type": "code",
   "execution_count": null,
   "metadata": {},
   "outputs": [],
   "source": [
    "from icepack.constants import ice_density as ρ_I, gravity as g\n",
    "from firedrake import inner, grad, dx\n",
    "f = -ρ_I * g * h * inner(grad(s), u_obs) / firedrake.sqrt(inner(u_obs, u_obs))\n",
    "τ_d = firedrake.Function(Q)\n",
    "L = 5e3\n",
    "J = 0.5 * ((τ_d - f)**2 + L**2 * inner(grad(τ_d), grad(τ_d))) * dx\n",
    "firedrake.solve(firedrake.derivative(J, τ_d) == 0, τ_d,\n",
    "                solver_parameters={'ksp_type': 'preonly', 'pc_type': 'lu'})"
   ]
  },
  {
   "cell_type": "markdown",
   "metadata": {},
   "source": [
    "The component of the driving stress along the ice velocity is plotted below.\n",
    "Part of the reason Jakobshavn flows so fast is that the surface slopes are so high -- the driving stresses are on the order of 200 kPa.\n",
    "Compare this to the ice streams feeding the Ross Ice Shelf, where the driving stress is as low as 20-40 kPa."
   ]
  },
  {
   "cell_type": "code",
   "execution_count": null,
   "metadata": {},
   "outputs": [],
   "source": [
    "fig, axes = icepack.plot.subplots()\n",
    "contours = icepack.plot.tricontourf(τ_d, 40, cmap='magma', axes=axes)\n",
    "colorbar = fig.colorbar(contours)\n",
    "colorbar.set_label('MPa')\n",
    "plt.show(fig)"
   ]
  },
  {
   "cell_type": "markdown",
   "metadata": {},
   "source": [
    "Now that we've got a stress to match, we'll compute an initial value of the friction coefficient.\n",
    "We'll assume to start that bed friction takes up 90% of the driving stress.\n",
    "This is a good approximation outside the main trunk of the glacier, but a poor one in fast-flowing areas, as we'll soon see.\n",
    "We also need to use a parameterization of the basal friction that guarantees positivity, much like how we did with the rheology."
   ]
  },
  {
   "cell_type": "code",
   "execution_count": null,
   "metadata": {},
   "outputs": [],
   "source": [
    "from icepack.constants import glen_flow_law as n\n",
    "import icepack.models.friction\n",
    "\n",
    "τ_0, u_0 = 0.1, 100.0\n",
    "def bed_friction(u, β):\n",
    "    C = τ_0 / u_0**(1/n) * firedrake.exp(β)\n",
    "    return icepack.models.friction.bed_friction(u, C)\n",
    "\n",
    "C = 0.9 * τ_d / firedrake.sqrt(inner(u_obs, u_obs))**(1/n)\n",
    "β = firedrake.interpolate(firedrake.ln(u_0**(1/n) * C / τ_0), Q)"
   ]
  },
  {
   "cell_type": "markdown",
   "metadata": {},
   "source": [
    "As a blunt initial guess, we'll take the ice temperature to be a uniform -20${}^\\circ$C.\n",
    "This is very blunt; we'll go back and revisit it later."
   ]
  },
  {
   "cell_type": "code",
   "execution_count": null,
   "metadata": {},
   "outputs": [],
   "source": [
    "A = firedrake.Constant(icepack.rate_factor(253.0))"
   ]
  },
  {
   "cell_type": "markdown",
   "metadata": {},
   "source": [
    "As a sanity check, let's make sure that the computed velocity isn't absurdly far off from the observations."
   ]
  },
  {
   "cell_type": "code",
   "execution_count": null,
   "metadata": {},
   "outputs": [],
   "source": [
    "model = icepack.models.IceStream(friction=bed_friction)\n",
    "opts = {'dirichlet_ids': [2], 'side_wall_ids': [3, 4], 'tol': 1e-8}\n",
    "u = model.diagnostic_solve(u0=u_obs, h=h, s=s, β=β, A=A, **opts)"
   ]
  },
  {
   "cell_type": "markdown",
   "metadata": {},
   "source": [
    "The max speed is vaguely close to that of the observations, but the region of fast flow is much smaller than the real glacier."
   ]
  },
  {
   "cell_type": "code",
   "execution_count": null,
   "metadata": {},
   "outputs": [],
   "source": [
    "fig, axes = icepack.plot.subplots()\n",
    "contours = icepack.plot.tricontourf(u, 40, cmap='magma', axes=axes)\n",
    "colorbar = fig.colorbar(contours)\n",
    "colorbar.set_label('m / year')\n",
    "plt.show(fig)"
   ]
  },
  {
   "cell_type": "markdown",
   "metadata": {},
   "source": [
    "The setup for the inverse problem is similar to what we did for the rheology.\n",
    "First, we need to define the objective and regularization functionals."
   ]
  },
  {
   "cell_type": "code",
   "execution_count": null,
   "metadata": {},
   "outputs": [],
   "source": [
    "def objective(u):\n",
    "    return 0.5 * (((u[0] - u_obs[0]) / σx)**2 + ((u[1] - u_obs[1]) / σy)**2) * dx\n",
    "\n",
    "L = 5e3\n",
    "def regularization(β):\n",
    "    return 0.5 * L**2 * inner(grad(β), grad(β)) * dx"
   ]
  },
  {
   "cell_type": "markdown",
   "metadata": {},
   "source": [
    "It's interesting to see how the data quality is much better near the front of the glacier."
   ]
  },
  {
   "cell_type": "code",
   "execution_count": null,
   "metadata": {},
   "outputs": [],
   "source": [
    "σ = firedrake.interpolate(firedrake.sqrt(σx**2 + σy**2), Q)\n",
    "fig, axes = icepack.plot.subplots()\n",
    "contours = icepack.plot.tricontourf(σ, 40, axes=axes)\n",
    "colorbar = fig.colorbar(contours)\n",
    "colorbar.set_label('m / year')\n",
    "plt.show(fig)"
   ]
  },
  {
   "cell_type": "markdown",
   "metadata": {},
   "source": [
    "Setting up the problem and solver works just like it did for inferring ice rheology, but the name of the parameter that we're inferring is different.\n",
    "We're going to change things up a bit in the interest of saving time though.\n",
    "Running the inverse solver takes about an hour and a half on my laptop, which is kind of annoying to re-run every time we want to do something with the results.\n",
    "To fix that, we'll output the state of the inverse solver to a file at every iteration.\n",
    "If one of these files is already present, we can resume the solver from that point to avoid repeating working we've already done.\n",
    "\n",
    "The firedrake class `DumbCheckpoint` provides this functionality.\n",
    "(I asked one of the firedrake developers about the name.\n",
    "Apparently they meant to implement a smart checkpoint but haven't got around to it yet.)\n",
    "The checkpoint class stores fields in HDF5 files, which have the extension `.h5`.\n",
    "This format is especially convenient for highly compressed binary data.\n",
    "Before, creating the inverse problem and solver objects, we'll check for any HDF5 files in the current directory that were created by previous runs of this demo.\n",
    "If there are any, we'll load in the velocity and friction parameter from the last one."
   ]
  },
  {
   "cell_type": "code",
   "execution_count": null,
   "metadata": {},
   "outputs": [],
   "source": [
    "iteration = 0\n",
    "filenames = [f for f in os.listdir() if os.path.splitext(f)[1] == '.h5']\n",
    "if filenames:\n",
    "    filename = os.path.splitext(sorted(filenames)[-1])[0]\n",
    "    chk = firedrake.DumbCheckpoint(filename, mode=firedrake.FILE_READ)\n",
    "    chk.load(u, name='u')\n",
    "    chk.load(β, name='β')\n",
    "    \n",
    "    iteration = len(filenames)\n",
    "    print('Loading saved data from file {}.h5!'.format(filename))"
   ]
  },
  {
   "cell_type": "markdown",
   "metadata": {},
   "source": [
    "We can then create the inverse problem object just like before, only we're starting it from an \"initial\" guess that's really several iterations in."
   ]
  },
  {
   "cell_type": "code",
   "execution_count": null,
   "metadata": {},
   "outputs": [],
   "source": [
    "import icepack.inverse\n",
    "\n",
    "model_args = {'h': h, 's': s, 'u0': u, 'A': A,\n",
    "              'tol': 1e-8, 'side_wall_ids': [3, 4]}\n",
    "\n",
    "problem = icepack.inverse.InverseProblem(\n",
    "    model=model,\n",
    "    method=icepack.models.IceStream.diagnostic_solve,\n",
    "    objective=objective,\n",
    "    regularization=regularization,\n",
    "    state_name='u',\n",
    "    state=u,\n",
    "    parameter_name='β',\n",
    "    parameter=β,\n",
    "    model_args=model_args,\n",
    "    dirichlet_ids=[2]\n",
    ")"
   ]
  },
  {
   "cell_type": "markdown",
   "metadata": {},
   "source": [
    "The callback is similar to what we saw in the first inverse problem demo, but we take the additional step of saving the results to a checkpoint file."
   ]
  },
  {
   "cell_type": "code",
   "execution_count": null,
   "metadata": {},
   "outputs": [],
   "source": [
    "area = firedrake.assemble(firedrake.Constant(1) * dx(mesh))\n",
    "def print_error_and_regularization(solver):\n",
    "    solver.iteration = getattr(solver, 'iteration', iteration) + 1\n",
    "    chk = firedrake.DumbCheckpoint('state{:02d}'.format(solver.iteration),\n",
    "                                   mode=firedrake.FILE_CREATE)\n",
    "    chk.store(solver.state, name='u')\n",
    "    chk.store(solver.parameter, name='β')\n",
    "    \n",
    "    E = firedrake.assemble(solver.objective)\n",
    "    R = firedrake.assemble(solver.regularization)\n",
    "    print('{:10.4g} | {:10.4g}'.format(E/area, R/area))"
   ]
  },
  {
   "cell_type": "code",
   "execution_count": null,
   "metadata": {},
   "outputs": [],
   "source": [
    "solver = icepack.inverse.GaussNewtonSolver(problem, print_error_and_regularization)"
   ]
  },
  {
   "cell_type": "code",
   "execution_count": null,
   "metadata": {},
   "outputs": [],
   "source": [
    "iterations = solver.solve(\n",
    "    rtol=5e-3,\n",
    "    atol=0.0,\n",
    "    max_iterations=30\n",
    ")"
   ]
  }
 ],
 "metadata": {
  "language_info": {
   "name": "python",
   "pygments_lexer": "ipython3"
  }
 },
 "nbformat": 4,
 "nbformat_minor": 2
}
